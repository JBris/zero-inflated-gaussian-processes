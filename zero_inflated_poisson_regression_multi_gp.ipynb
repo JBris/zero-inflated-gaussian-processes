{
 "cells": [
  {
   "cell_type": "code",
   "execution_count": 16,
   "id": "34127190-bc80-4e64-b43e-d35b8ca8c3a6",
   "metadata": {},
   "outputs": [],
   "source": [
    "\n",
    "from typing import Any, Optional\n",
    "\n",
    "import torch\n",
    "from torch import Tensor\n",
    "from torch.distributions import Laplace\n",
    "\n",
    "from gpytorch.constraints import Interval, Positive\n",
    "from gpytorch.distributions import base_distributions\n",
    "from gpytorch.priors import Prior\n",
    "from gpytorch.likelihoods.likelihood import _OneDimensionalLikelihood\n",
    "import numpy as np\n",
    "import pandas as pd\n",
    "import matplotlib.pyplot as plt\n",
    "from scipy.special import expit  # Sigmoid function for logistic link\n",
    "\n",
    "class ZeroInflatedPoissonLikelihood(_OneDimensionalLikelihood):\n",
    "    def __init__(\n",
    "        self,\n",
    "        batch_shape: torch.Size = torch.Size([])\n",
    "    ) -> None:\n",
    "        super().__init__()\n",
    "\n",
    "    def forward(self, function_samples: Tensor, *args: Any, **kwargs: Any) -> base_distributions.ZeroInflatedPoisson:\n",
    "        gate_logits = function_samples[..., 0]\n",
    "        rate_log = function_samples[..., 1]\n",
    "\n",
    "        rate = torch.exp(rate_log) \n",
    "        pi = torch.sigmoid(gate_logits)\n",
    "        return base_distributions.ZeroInflatedPoisson(rate=rate, gate=pi)"
   ]
  },
  {
   "cell_type": "code",
   "execution_count": 17,
   "id": "9f25fcc7-a722-4c92-85fb-cf14756b934a",
   "metadata": {},
   "outputs": [],
   "source": [
    "import urllib.request\n",
    "import os\n",
    "from scipy.io import loadmat\n",
    "from math import floor\n",
    "import math\n",
    "import torch\n",
    "import gpytorch\n",
    "from matplotlib import pyplot as plt\n",
    "\n",
    "from gpytorch.models import ApproximateGP\n",
    "from gpytorch.variational import CholeskyVariationalDistribution, DeltaVariationalDistribution, MeanFieldVariationalDistribution\n",
    "from gpytorch.variational import VariationalStrategy\n",
    "from sklearn.preprocessing import MinMaxScaler, StandardScaler\n",
    "\n",
    "\n",
    "N = 500\n",
    "pi = 0.25\n",
    "X = torch.normal(mean=0, std =1, size=(1,N)).double().cuda().flatten()\n",
    "y = base_distributions.ZeroInflatedPoisson(\n",
    "    rate=torch.exp(X), gate=torch.tensor([pi]).double().cuda()\n",
    ").sample().double().cuda().flatten()"
   ]
  },
  {
   "cell_type": "code",
   "execution_count": 18,
   "id": "2d8c5359-cecd-48be-a2ac-fab429cbe416",
   "metadata": {},
   "outputs": [
    {
     "name": "stdout",
     "output_type": "stream",
     "text": [
      "50\n",
      "1.2761730465672376\n",
      "100\n",
      "1.2683216598649423\n",
      "150\n",
      "1.2653307892577372\n",
      "200\n",
      "1.2640935141792806\n",
      "250\n",
      "1.2634851490871317\n",
      "300\n",
      "1.2631059287914317\n",
      "350\n",
      "1.2628106541270376\n",
      "400\n",
      "1.2625502626062475\n",
      "450\n",
      "1.2623136343283639\n",
      "500\n",
      "1.2621031765991588\n"
     ]
    }
   ],
   "source": [
    "class GPModel(ApproximateGP):\n",
    "    def __init__(self, inducing_points, num_tasks):\n",
    "        variational_distribution = gpytorch.variational.NaturalVariationalDistribution(inducing_points.size(0), batch_shape=torch.Size([num_tasks]))\n",
    "        variational_strategy = gpytorch.variational.IndependentMultitaskVariationalStrategy(\n",
    "            gpytorch.variational.VariationalStrategy(\n",
    "                self, inducing_points, variational_distribution, learn_inducing_locations=True\n",
    "            ), \n",
    "            num_tasks=num_tasks\n",
    "        )\n",
    "        \n",
    "\n",
    "        super(GPModel, self).__init__(variational_strategy)\n",
    "        self.mean_module = gpytorch.means.ConstantMean(batch_shape=torch.Size([num_tasks]))\n",
    "        self.covar_module = gpytorch.kernels.ScaleKernel(\n",
    "            gpytorch.kernels.LinearKernel(batch_shape=torch.Size([num_tasks])),\n",
    "            batch_shape=torch.Size([num_tasks])\n",
    "        )\n",
    "\n",
    "    def forward(self, x):\n",
    "        mean_x = self.mean_module(x)\n",
    "        covar_x = self.covar_module(x)\n",
    "        return gpytorch.distributions.MultivariateNormal(mean_x, covar_x)\n",
    "\n",
    "inducing_points = X.clone()\n",
    "M = 100\n",
    "inducing_points = torch.normal(mean=0, std =1, size=(1,N)).double().cuda().flatten()\n",
    "model = GPModel(inducing_points=inducing_points, num_tasks=2).double()\n",
    "likelihood = ZeroInflatedPoissonLikelihood().double()\n",
    "\n",
    "if torch.cuda.is_available():\n",
    "    model = model.cuda()\n",
    "    likelihood = likelihood.cuda()\n",
    "\n",
    "model.train()\n",
    "likelihood.train()\n",
    "likelihood.initialize()\n",
    "\n",
    "variational_ngd_optimizer = gpytorch.optim.NGD(model.variational_parameters(), num_data=y.size(0), lr=0.1)\n",
    "\n",
    "hyperparameter_optimizer = torch.optim.Adam([\n",
    "    {'params': model.hyperparameters()},\n",
    "    {'params': likelihood.parameters()},\n",
    "], lr=0.01)\n",
    "\n",
    "mll = gpytorch.mlls.VariationalELBO(likelihood, model, num_data=y.size(0))\n",
    "\n",
    "n_epochs = 500\n",
    "for i in range(1, n_epochs + 1):\n",
    "    if i % (n_epochs // 10) == 0:\n",
    "        print(i)\n",
    "        print(loss.item())\n",
    "    variational_ngd_optimizer.zero_grad()\n",
    "    hyperparameter_optimizer.zero_grad()\n",
    "    output = model(X)\n",
    "    loss = -mll(output, y)\n",
    "    loss.backward()\n",
    "    variational_ngd_optimizer.step()\n",
    "    hyperparameter_optimizer.step()"
   ]
  },
  {
   "cell_type": "code",
   "execution_count": 19,
   "id": "9f151c11-27a3-4b33-994b-985d1540a580",
   "metadata": {},
   "outputs": [
    {
     "data": {
      "text/plain": [
       "<Axes: xlabel='X1', ylabel='y'>"
      ]
     },
     "execution_count": 19,
     "metadata": {},
     "output_type": "execute_result"
    },
    {
     "data": {
      "image/png": "[encoded data removed]",
      "text/plain": [
       "<Figure size 640x480 with 1 Axes>"
      ]
     },
     "metadata": {},
     "output_type": "display_data"
    }
   ],
   "source": [
    "model.eval()\n",
    "likelihood.eval()\n",
    "with torch.no_grad():\n",
    "    preds = likelihood(model(X))\n",
    "\n",
    "results_df = pd.DataFrame(dict(\n",
    "    y=y.cpu().numpy(),\n",
    "    X1=X.cpu().numpy(),\n",
    "    preds=preds.sample().median(axis=0).values.cpu().numpy()\n",
    "))\n",
    "\n",
    "results_df.plot.scatter(\"X1\", \"y\")"
   ]
  },
  {
   "cell_type": "code",
   "execution_count": 20,
   "id": "214ac232-34dd-4fcf-8fce-7b32c33445b6",
   "metadata": {},
   "outputs": [
    {
     "data": {
      "text/plain": [
       "<Axes: xlabel='X1', ylabel='preds'>"
      ]
     },
     "execution_count": 20,
     "metadata": {},
     "output_type": "execute_result"
    },
    {
     "data": {
      "image/png": "[encoded data removed]",
      "text/plain": [
       "<Figure size 640x480 with 1 Axes>"
      ]
     },
     "metadata": {},
     "output_type": "display_data"
    }
   ],
   "source": [
    "results_df.plot.scatter(\"X1\", \"preds\")"
   ]
  },
  {
   "cell_type": "code",
   "execution_count": null,
   "id": "328ce3c1-99e8-4c9b-8028-f20987e7655f",
   "metadata": {},
   "outputs": [],
   "source": []
  },
  {
   "cell_type": "code",
   "execution_count": null,
   "id": "72dbf1a0-df9b-46f3-af0a-d712cf22e9a8",
   "metadata": {},
   "outputs": [],
   "source": []
  }
 ],
 "metadata": {
  "kernelspec": {
   "display_name": "Python 3 (ipykernel)",
   "language": "python",
   "name": "python3"
  },
  "language_info": {
   "codemirror_mode": {
    "name": "ipython",
    "version": 3
   },
   "file_extension": ".py",
   "mimetype": "text/x-python",
   "name": "python",
   "nbconvert_exporter": "python",
   "pygments_lexer": "ipython3",
   "version": "3.10.17"
  }
 },
 "nbformat": 4,
 "nbformat_minor": 5
}
