{
 "cells": [
  {
   "cell_type": "code",
   "execution_count": 13,
   "id": "866a563b-05fe-4194-ad8c-5d106c38d855",
   "metadata": {},
   "outputs": [
    {
     "name": "stdout",
     "output_type": "stream",
     "text": [
      "         X1        X2   mu_pois    p_zero  y\n",
      "0  0.496714  0.926178  1.767996  0.497325  1\n",
      "1 -0.138264  1.909417  0.843994  0.612635  0\n",
      "2  0.647689 -1.398568  3.946986  0.142460  0\n",
      "3  1.523030  0.562969  4.043983  0.552775  6\n",
      "4 -0.234153 -0.650643  1.701118  0.162793  1\n"
     ]
    }
   ],
   "source": [
    "import numpy as np\n",
    "import pandas as pd\n",
    "import matplotlib.pyplot as plt\n",
    "from scipy.special import expit  # Sigmoid function for logistic link\n",
    "\n",
    "def simulate_zip_with_covariates(n, beta_pois, beta_zero, seed=None):\n",
    "    if seed is not None:\n",
    "        np.random.seed(seed)\n",
    "\n",
    "    X1 = np.random.normal(0, 1, n)\n",
    "    X2 = np.random.normal(0, 1, n)\n",
    "\n",
    "    X = np.column_stack((np.ones(n), X1, X2))\n",
    "\n",
    "    logit_zi = X @ beta_zero\n",
    "    prob_zero = expit(logit_zi)  # Apply logistic link\n",
    "\n",
    "    is_zero = np.random.binomial(1, prob_zero)\n",
    "\n",
    "    log_mu = X @ beta_pois\n",
    "    mu = np.exp(log_mu)  # Apply log link\n",
    "\n",
    "    y_pois = np.random.poisson(mu)\n",
    "\n",
    "    y = np.where(is_zero == 1, 0, y_pois)\n",
    "    return pd.DataFrame({\n",
    "        'X1': X1,\n",
    "        'X2': X2,\n",
    "        'mu_pois': mu,\n",
    "        'p_zero': prob_zero,\n",
    "        'y': y\n",
    "    })\n",
    "\n",
    "beta_pois = np.array([0.5, 0.7, -0.3])     # Intercept and slopes for Poisson\n",
    "beta_zero = np.array([-1.0, 0.5, 0.8])     # Intercept and slopes for zero inflation\n",
    "df_zip = simulate_zip_with_covariates(n=1000, beta_pois=beta_pois, beta_zero=beta_zero, seed=42)\n",
    "\n",
    "print(df_zip.head())"
   ]
  },
  {
   "cell_type": "code",
   "execution_count": 14,
   "id": "d43075f1-0cdf-440c-b215-512620ebd1c3",
   "metadata": {},
   "outputs": [
    {
     "name": "stdout",
     "output_type": "stream",
     "text": [
      "Optimization terminated successfully.\n",
      "         Current function value: 1.388434\n",
      "         Iterations: 17\n",
      "         Function evaluations: 19\n",
      "         Gradient evaluations: 19\n"
     ]
    },
    {
     "data": {
      "text/html": [
       "<table class=\"simpletable\">\n",
       "<caption>ZeroInflatedPoisson Regression Results</caption>\n",
       "<tr>\n",
       "  <th>Dep. Variable:</th>            <td>y</td>          <th>  No. Observations:  </th>  <td>   500</td>  \n",
       "</tr>\n",
       "<tr>\n",
       "  <th>Model:</th>           <td>ZeroInflatedPoisson</td> <th>  Df Residuals:      </th>  <td>   497</td>  \n",
       "</tr>\n",
       "<tr>\n",
       "  <th>Method:</th>                  <td>MLE</td>         <th>  Df Model:          </th>  <td>     2</td>  \n",
       "</tr>\n",
       "<tr>\n",
       "  <th>Date:</th>             <td>Thu, 17 Apr 2025</td>   <th>  Pseudo R-squ.:     </th>  <td>0.1840</td>  \n",
       "</tr>\n",
       "<tr>\n",
       "  <th>Time:</th>                 <td>22:49:59</td>       <th>  Log-Likelihood:    </th> <td> -694.22</td> \n",
       "</tr>\n",
       "<tr>\n",
       "  <th>converged:</th>              <td>True</td>         <th>  LL-Null:           </th> <td> -850.80</td> \n",
       "</tr>\n",
       "<tr>\n",
       "  <th>Covariance Type:</th>      <td>nonrobust</td>      <th>  LLR p-value:       </th> <td>9.905e-69</td>\n",
       "</tr>\n",
       "</table>\n",
       "<table class=\"simpletable\">\n",
       "<tr>\n",
       "        <td></td>           <th>coef</th>     <th>std err</th>      <th>z</th>      <th>P>|z|</th>  <th>[0.025</th>    <th>0.975]</th>  \n",
       "</tr>\n",
       "<tr>\n",
       "  <th>inflate_const</th> <td>   -0.8019</td> <td>    0.156</td> <td>   -5.129</td> <td> 0.000</td> <td>   -1.108</td> <td>   -0.495</td>\n",
       "</tr>\n",
       "<tr>\n",
       "  <th>inflate_x1</th>    <td>    0.3706</td> <td>    0.156</td> <td>    2.377</td> <td> 0.017</td> <td>    0.065</td> <td>    0.676</td>\n",
       "</tr>\n",
       "<tr>\n",
       "  <th>inflate_x2</th>    <td>    0.9271</td> <td>    0.155</td> <td>    5.970</td> <td> 0.000</td> <td>    0.623</td> <td>    1.231</td>\n",
       "</tr>\n",
       "<tr>\n",
       "  <th>const</th>         <td>    0.5260</td> <td>    0.052</td> <td>   10.103</td> <td> 0.000</td> <td>    0.424</td> <td>    0.628</td>\n",
       "</tr>\n",
       "<tr>\n",
       "  <th>x1</th>            <td>    0.6971</td> <td>    0.044</td> <td>   16.010</td> <td> 0.000</td> <td>    0.612</td> <td>    0.782</td>\n",
       "</tr>\n",
       "<tr>\n",
       "  <th>x2</th>            <td>   -0.2429</td> <td>    0.046</td> <td>   -5.279</td> <td> 0.000</td> <td>   -0.333</td> <td>   -0.153</td>\n",
       "</tr>\n",
       "</table>"
      ],
      "text/latex": [
       "\\begin{center}\n",
       "\\begin{tabular}{lclc}\n",
       "\\toprule\n",
       "\\textbf{Dep. Variable:}   &          y          & \\textbf{  No. Observations:  } &      500    \\\\\n",
       "\\textbf{Model:}           & ZeroInflatedPoisson & \\textbf{  Df Residuals:      } &      497    \\\\\n",
       "\\textbf{Method:}          &         MLE         & \\textbf{  Df Model:          } &        2    \\\\\n",
       "\\textbf{Date:}            &   Thu, 17 Apr 2025  & \\textbf{  Pseudo R-squ.:     } &   0.1840    \\\\\n",
       "\\textbf{Time:}            &       22:49:59      & \\textbf{  Log-Likelihood:    } &   -694.22   \\\\\n",
       "\\textbf{converged:}       &         True        & \\textbf{  LL-Null:           } &   -850.80   \\\\\n",
       "\\textbf{Covariance Type:} &      nonrobust      & \\textbf{  LLR p-value:       } & 9.905e-69   \\\\\n",
       "\\bottomrule\n",
       "\\end{tabular}\n",
       "\\begin{tabular}{lcccccc}\n",
       "                        & \\textbf{coef} & \\textbf{std err} & \\textbf{z} & \\textbf{P$> |$z$|$} & \\textbf{[0.025} & \\textbf{0.975]}  \\\\\n",
       "\\midrule\n",
       "\\textbf{inflate\\_const} &      -0.8019  &        0.156     &    -5.129  &         0.000        &       -1.108    &       -0.495     \\\\\n",
       "\\textbf{inflate\\_x1}    &       0.3706  &        0.156     &     2.377  &         0.017        &        0.065    &        0.676     \\\\\n",
       "\\textbf{inflate\\_x2}    &       0.9271  &        0.155     &     5.970  &         0.000        &        0.623    &        1.231     \\\\\n",
       "\\textbf{const}          &       0.5260  &        0.052     &    10.103  &         0.000        &        0.424    &        0.628     \\\\\n",
       "\\textbf{x1}             &       0.6971  &        0.044     &    16.010  &         0.000        &        0.612    &        0.782     \\\\\n",
       "\\textbf{x2}             &      -0.2429  &        0.046     &    -5.279  &         0.000        &       -0.333    &       -0.153     \\\\\n",
       "\\bottomrule\n",
       "\\end{tabular}\n",
       "%\\caption{ZeroInflatedPoisson Regression Results}\n",
       "\\end{center}"
      ],
      "text/plain": [
       "<class 'statsmodels.iolib.summary.Summary'>\n",
       "\"\"\"\n",
       "                     ZeroInflatedPoisson Regression Results                    \n",
       "===============================================================================\n",
       "Dep. Variable:                       y   No. Observations:                  500\n",
       "Model:             ZeroInflatedPoisson   Df Residuals:                      497\n",
       "Method:                            MLE   Df Model:                            2\n",
       "Date:                 Thu, 17 Apr 2025   Pseudo R-squ.:                  0.1840\n",
       "Time:                         22:49:59   Log-Likelihood:                -694.22\n",
       "converged:                        True   LL-Null:                       -850.80\n",
       "Covariance Type:             nonrobust   LLR p-value:                 9.905e-69\n",
       "=================================================================================\n",
       "                    coef    std err          z      P>|z|      [0.025      0.975]\n",
       "---------------------------------------------------------------------------------\n",
       "inflate_const    -0.8019      0.156     -5.129      0.000      -1.108      -0.495\n",
       "inflate_x1        0.3706      0.156      2.377      0.017       0.065       0.676\n",
       "inflate_x2        0.9271      0.155      5.970      0.000       0.623       1.231\n",
       "const             0.5260      0.052     10.103      0.000       0.424       0.628\n",
       "x1                0.6971      0.044     16.010      0.000       0.612       0.782\n",
       "x2               -0.2429      0.046     -5.279      0.000      -0.333      -0.153\n",
       "=================================================================================\n",
       "\"\"\""
      ]
     },
     "execution_count": 14,
     "metadata": {},
     "output_type": "execute_result"
    }
   ],
   "source": [
    "from statsmodels.tools.tools import add_constant\n",
    "\n",
    "X = df_zip[[ \"X1\", \"X2\" ]].values\n",
    "X = add_constant(X)\n",
    "y = df_zip[[ \"y\" ]].values\n",
    "\n",
    "from statsmodels.discrete.count_model import ZeroInflatedPoisson\n",
    "\n",
    "model = ZeroInflatedPoisson(endog=y,\n",
    "                            exog=X,\n",
    "                            exog_infl=X\n",
    "                           )\n",
    "\n",
    "\n",
    "modelzip = model.fit()\n",
    "modelzip.summary()"
   ]
  },
  {
   "cell_type": "code",
   "execution_count": 474,
   "id": "53803b0e-b25e-446a-9e23-9be0fa48bb49",
   "metadata": {},
   "outputs": [],
   "source": [
    "\n",
    "from typing import Any, Optional\n",
    "\n",
    "import torch\n",
    "from torch import Tensor\n",
    "from torch.distributions import Laplace\n",
    "\n",
    "from gpytorch.constraints import Interval, Positive\n",
    "from gpytorch.distributions import base_distributions\n",
    "from gpytorch.priors import Prior\n",
    "from gpytorch.likelihoods.likelihood import _OneDimensionalLikelihood\n",
    "\n",
    "class ZeroInflatedPoissonLikelihood(_OneDimensionalLikelihood):\n",
    "    def __init__(\n",
    "        self,\n",
    "        batch_shape: torch.Size = torch.Size([])\n",
    "    ) -> None:\n",
    "        super().__init__()\n",
    "\n",
    "        self.raw_mu = torch.nn.Parameter(torch.ones(*batch_shape, 1))\n",
    "        self.raw_pi = torch.nn.Parameter(torch.ones(*batch_shape, 1))\n",
    "        \n",
    "        mu_constraint = Positive()\n",
    "        pi_constraint = Interval(0, 1)\n",
    "        \n",
    "        self.register_constraint(\"raw_mu\", mu_constraint)\n",
    "        self.register_constraint(\"raw_pi\", pi_constraint)\n",
    "\n",
    "    @property\n",
    "    def mu(self) -> Tensor:\n",
    "        return self.raw_mu_constraint.transform(self.raw_mu)\n",
    "        \n",
    "    @property\n",
    "    def pi(self) -> Tensor:\n",
    "        return self.raw_pi_constraint.transform(self.raw_pi)\n",
    "\n",
    "    @mu.setter\n",
    "    def mu(self, value: Tensor) -> None:\n",
    "        self._set_mu(value)\n",
    "        \n",
    "    @pi.setter\n",
    "    def pi(self, value: Tensor) -> None:\n",
    "        self._set_pi(value)\n",
    "\n",
    "    def _set_mu(self, value: Tensor) -> None:\n",
    "        if not torch.is_tensor(value):\n",
    "            value = torch.as_tensor(value).to(self.raw_mu)\n",
    "        self.initialize(raw_mu=self.raw_mu_constraint.inverse_transform(value))\n",
    "        \n",
    "    def _set_pi(self, value: Tensor) -> None:\n",
    "        if not torch.is_tensor(value):\n",
    "            value = torch.as_tensor(value).to(self.raw_pi)\n",
    "        self.initialize(raw_pi=self.raw_pi_constraint.inverse_transform(value))\n",
    "\n",
    "    def forward(self, function_samples: Tensor, *args: Any, **kwargs: Any) -> base_distributions.ZeroInflatedPoisson:\n",
    "        rate = torch.exp(function_samples)  * self.mu\n",
    "        pi = torch.sigmoid(function_samples * self.pi)\n",
    "        return base_distributions.ZeroInflatedPoisson(rate=rate, gate=pi)"
   ]
  },
  {
   "cell_type": "code",
   "execution_count": 475,
   "id": "910f0564-3cc1-4c0f-bb12-fcfc50d92e3a",
   "metadata": {},
   "outputs": [],
   "source": [
    "class PoissonLikelihood(_OneDimensionalLikelihood):\n",
    "    def __init__(\n",
    "        self,\n",
    "        batch_shape: torch.Size = torch.Size([])\n",
    "    ) -> None:\n",
    "        super().__init__()\n",
    "\n",
    "        self.raw_mu = torch.nn.Parameter(torch.ones(*batch_shape, 1))\n",
    "        \n",
    "        mu_constraint = Positive()\n",
    "        \n",
    "        self.register_constraint(\"raw_mu\", mu_constraint)\n",
    "\n",
    "    @property\n",
    "    def mu(self) -> Tensor:\n",
    "        return self.raw_mu_constraint.transform(self.raw_mu)\n",
    "\n",
    "    @mu.setter\n",
    "    def mu(self, value: Tensor) -> None:\n",
    "        self._set_mu(value)\n",
    "        \n",
    "    def _set_mu(self, value: Tensor) -> None:\n",
    "        if not torch.is_tensor(value):\n",
    "            value = torch.as_tensor(value).to(self.raw_mu)\n",
    "        self.initialize(raw_mu=self.raw_mu_constraint.inverse_transform(value))\n",
    "\n",
    "    def forward(self, function_samples: Tensor, *args: Any, **kwargs: Any) -> base_distributions.Poisson:\n",
    "        rate = torch.exp(function_samples) * self.mu\n",
    "        return base_distributions.Poisson(rate=rate)"
   ]
  },
  {
   "cell_type": "code",
   "execution_count": 476,
   "id": "dc9cf45f-8fc7-4039-9085-0d9d1a59e116",
   "metadata": {},
   "outputs": [],
   "source": [
    "import urllib.request\n",
    "import os\n",
    "from scipy.io import loadmat\n",
    "from math import floor\n",
    "import math\n",
    "import torch\n",
    "import gpytorch\n",
    "from matplotlib import pyplot as plt\n",
    "\n",
    "from gpytorch.models import ApproximateGP\n",
    "from gpytorch.variational import CholeskyVariationalDistribution, DeltaVariationalDistribution, MeanFieldVariationalDistribution\n",
    "from gpytorch.variational import VariationalStrategy\n",
    "from sklearn.preprocessing import MinMaxScaler, StandardScaler\n",
    "\n",
    "N = 500\n",
    "X = torch.normal(mean=0, std =1, size=(1,N)).double().cuda().flatten()\n",
    "y = base_distributions.Poisson(rate=torch.exp(X)).sample().double().cuda().flatten()"
   ]
  },
  {
   "cell_type": "code",
   "execution_count": 484,
   "id": "c4d5e976-c080-4ba3-9a5f-c9a2942d8340",
   "metadata": {},
   "outputs": [
    {
     "name": "stdout",
     "output_type": "stream",
     "text": [
      "100\n",
      "1.4120832659838245\n",
      "200\n",
      "1.4115113567265667\n",
      "300\n",
      "1.4111028401698733\n",
      "400\n",
      "1.4106218205896135\n",
      "500\n",
      "1.4100819607749824\n",
      "600\n",
      "1.4094938661943166\n",
      "700\n",
      "1.4088664362417704\n",
      "800\n",
      "1.4082074436721839\n",
      "900\n",
      "1.4075238092087818\n",
      "1000\n",
      "1.4068217365998594\n"
     ]
    }
   ],
   "source": [
    "import math\n",
    "\n",
    "class LargeFeatureExtractor(torch.nn.Sequential):\n",
    "    def __init__(self):\n",
    "        super(LargeFeatureExtractor, self).__init__()\n",
    "        self.add_module('linear2', torch.nn.Linear(1, 500))\n",
    "        self.add_module('relu2', torch.nn.ReLU())\n",
    "        self.add_module('linear3', torch.nn.Linear(500, 50))\n",
    "        self.add_module('relu3', torch.nn.ReLU())\n",
    "        self.add_module('linear4', torch.nn.Linear(50, 1))\n",
    "\n",
    "\n",
    "class GPModel(ApproximateGP):\n",
    "    def __init__(self, inducing_points, feature_extractor):\n",
    "        variational_distribution = gpytorch.variational.NaturalVariationalDistribution(inducing_points.size(0))\n",
    "        variational_strategy = gpytorch.variational.VariationalStrategy(\n",
    "            self, inducing_points, variational_distribution, learn_inducing_locations=True\n",
    "        )\n",
    "        super(GPModel, self).__init__(variational_strategy)\n",
    "        self.mean_module = gpytorch.means.ConstantMean()\n",
    "        self.covar_module = gpytorch.kernels.ScaleKernel(\n",
    "            gpytorch.kernels.RBFKernel(),\n",
    "            # outputscale_prior=gpytorch.priors.SmoothedBoxPrior(y.min(), y.max())\n",
    "        )\n",
    "        \n",
    "        # self.feature_extractor = feature_extractor\n",
    "        # self.scale_to_bounds = gpytorch.utils.grid.ScaleToBounds(-1., 1.)\n",
    "\n",
    "    def forward(self, x):\n",
    "        # projected_x = self.feature_extractor(x)\n",
    "        # projected_x = self.scale_to_bounds(projected_x)  \n",
    "        mean_x = self.mean_module(x)\n",
    "        covar_x = self.covar_module(x)\n",
    "        return gpytorch.distributions.MultivariateNormal(mean_x, covar_x)\n",
    "\n",
    "feature_extractor = LargeFeatureExtractor()\n",
    "inducing_points = X.clone()\n",
    "M = 30\n",
    "inducing_points = torch.normal(mean=0, std =1, size=(1,N)).double().cuda().flatten()\n",
    "model = GPModel(inducing_points=inducing_points, feature_extractor=feature_extractor).double()\n",
    "likelihood = ZeroInflatedPoissonLikelihood().double()\n",
    "likelihood = PoissonLikelihood().double()\n",
    "\n",
    "if torch.cuda.is_available():\n",
    "    model = model.cuda()\n",
    "    likelihood = likelihood.cuda()\n",
    "\n",
    "model.train()\n",
    "model.covar_module.base_kernel.initialize(lengthscale=5)\n",
    "likelihood.train()\n",
    "likelihood.initialize(mu=200)\n",
    "\n",
    "variational_ngd_optimizer = gpytorch.optim.NGD(model.variational_parameters(), num_data=y.size(0), lr=0.1)\n",
    "\n",
    "hyperparameter_optimizer = torch.optim.Adam([\n",
    "    {'params': model.hyperparameters()},\n",
    "    {'params': likelihood.parameters()},\n",
    "], lr=0.01)\n",
    "\n",
    "mll = gpytorch.mlls.VariationalELBO(likelihood, model, num_data=y.size(0))\n",
    "\n",
    "n_epochs = 1000\n",
    "for i in range(1, n_epochs + 1):\n",
    "    if i % (n_epochs // 10) == 0:\n",
    "        print(i)\n",
    "        print(loss.item())\n",
    "    variational_ngd_optimizer.zero_grad()\n",
    "    hyperparameter_optimizer.zero_grad()\n",
    "    output = model(X)\n",
    "    loss = -mll(output, y)\n",
    "    loss.backward()\n",
    "    variational_ngd_optimizer.step()\n",
    "    hyperparameter_optimizer.step()"
   ]
  },
  {
   "cell_type": "code",
   "execution_count": 485,
   "id": "fffc67a7-2002-4577-99a8-90e7ff3ed0b0",
   "metadata": {},
   "outputs": [],
   "source": [
    "model.eval()\n",
    "likelihood.eval()\n",
    "with torch.no_grad():\n",
    "    preds = likelihood(model(X))"
   ]
  },
  {
   "cell_type": "code",
   "execution_count": 486,
   "id": "9cb4cb01-6861-4584-9900-69e6fb147896",
   "metadata": {},
   "outputs": [
    {
     "name": "stdout",
     "output_type": "stream",
     "text": [
      "0.002691603193557084 1.5682000840818207 0.9051496599767875 0.004400033038109541\n"
     ]
    }
   ],
   "source": [
    "print(\n",
    "    gpytorch.metrics.negative_log_predictive_density(preds, y).mean().item(),\n",
    "    gpytorch.metrics.mean_squared_error(preds, y, squared=True).mean().item(),\n",
    "    gpytorch.metrics.mean_absolute_error(preds, y).mean().item(),\n",
    "    gpytorch.metrics.quantile_coverage_error(preds, y, quantile=95).mean().item(),\n",
    ")"
   ]
  },
  {
   "cell_type": "code",
   "execution_count": 482,
   "id": "743bc0ea-7c15-46f9-baaa-f0ceabe54a1f",
   "metadata": {},
   "outputs": [
    {
     "data": {
      "text/plain": [
       "<Axes: xlabel='X1', ylabel='y'>"
      ]
     },
     "execution_count": 482,
     "metadata": {},
     "output_type": "execute_result"
    },
    {
     "data": {
      "image/png": "[encoded data removed]",
      "text/plain": [
       "<Figure size 640x480 with 1 Axes>"
      ]
     },
     "metadata": {},
     "output_type": "display_data"
    }
   ],
   "source": [
    "results_df = pd.DataFrame(dict(\n",
    "    y=y.cpu().numpy(),\n",
    "    X1=X.cpu().numpy(),\n",
    "    preds=preds.sample().median(axis=0).values.cpu().numpy()\n",
    "))\n",
    "\n",
    "results_df.plot.scatter(\"X1\", \"y\")"
   ]
  },
  {
   "cell_type": "code",
   "execution_count": 483,
   "id": "d11b52ea-afae-4f2b-8445-5ee438e655bc",
   "metadata": {},
   "outputs": [
    {
     "data": {
      "text/plain": [
       "<Axes: xlabel='X1', ylabel='preds'>"
      ]
     },
     "execution_count": 483,
     "metadata": {},
     "output_type": "execute_result"
    },
    {
     "data": {
      "image/png": "[encoded data removed]",
      "text/plain": [
       "<Figure size 640x480 with 1 Axes>"
      ]
     },
     "metadata": {},
     "output_type": "display_data"
    }
   ],
   "source": [
    "results_df.plot.scatter(\"X1\", \"preds\")"
   ]
  },
  {
   "cell_type": "code",
   "execution_count": 493,
   "id": "bf068bc9-a651-4944-a660-2b0569f27719",
   "metadata": {},
   "outputs": [],
   "source": [
    "N = 500\n",
    "X = torch.normal(mean=0, std =1, size=(1,N)).double().cuda().flatten()\n",
    "y = base_distributions.ZeroInflatedPoisson(\n",
    "    rate=torch.exp(X), gate=torch.tensor([0.25]).double().cuda()\n",
    ").sample().double().cuda().flatten()"
   ]
  },
  {
   "cell_type": "code",
   "execution_count": 504,
   "id": "7b41ba03-506c-4e5b-a313-ff49954613fe",
   "metadata": {},
   "outputs": [
    {
     "name": "stdout",
     "output_type": "stream",
     "text": [
      "150\n",
      "1.3617782171279758\n",
      "300\n",
      "1.3450779990674973\n",
      "450\n",
      "1.3308662480955964\n",
      "600\n",
      "1.3247809895999292\n",
      "750\n",
      "1.3226314176734604\n",
      "900\n",
      "1.3214586533339328\n",
      "1050\n",
      "1.32048247125383\n",
      "1200\n",
      "1.3195351509107898\n",
      "1350\n",
      "1.3185770042837341\n",
      "1500\n",
      "1.3175976496417101\n"
     ]
    }
   ],
   "source": [
    "class GPModel(ApproximateGP):\n",
    "    def __init__(self, inducing_points, feature_extractor):\n",
    "        variational_distribution = gpytorch.variational.NaturalVariationalDistribution(inducing_points.size(0))\n",
    "        variational_strategy = gpytorch.variational.VariationalStrategy(\n",
    "            self, inducing_points, variational_distribution, learn_inducing_locations=True\n",
    "        )\n",
    "        super(GPModel, self).__init__(variational_strategy)\n",
    "        self.mean_module = gpytorch.means.ConstantMean()\n",
    "        self.covar_module = gpytorch.kernels.ScaleKernel(\n",
    "            gpytorch.kernels.RBFKernel(),\n",
    "            # outputscale_prior=gpytorch.priors.SmoothedBoxPrior(y.min(), y.max())\n",
    "        )\n",
    "        \n",
    "        # self.feature_extractor = feature_extractor\n",
    "        # self.scale_to_bounds = gpytorch.utils.grid.ScaleToBounds(-1., 1.)\n",
    "\n",
    "    def forward(self, x):\n",
    "        # projected_x = self.feature_extractor(x)\n",
    "        # projected_x = self.scale_to_bounds(projected_x)  \n",
    "        mean_x = self.mean_module(x)\n",
    "        covar_x = self.covar_module(x)\n",
    "        return gpytorch.distributions.MultivariateNormal(mean_x, covar_x)\n",
    "\n",
    "\n",
    "inducing_points = X.clone()\n",
    "M = 30\n",
    "inducing_points = torch.normal(mean=0, std =1, size=(1,N)).double().cuda().flatten()\n",
    "model = GPModel(inducing_points=inducing_points, feature_extractor=feature_extractor).double()\n",
    "likelihood = ZeroInflatedPoissonLikelihood().double()\n",
    "\n",
    "if torch.cuda.is_available():\n",
    "    model = model.cuda()\n",
    "    likelihood = likelihood.cuda()\n",
    "\n",
    "model.train()\n",
    "model.covar_module.base_kernel.initialize(lengthscale=5)\n",
    "likelihood.train()\n",
    "likelihood.initialize(mu=200)\n",
    "\n",
    "variational_ngd_optimizer = gpytorch.optim.NGD(model.variational_parameters(), num_data=y.size(0), lr=0.1)\n",
    "\n",
    "hyperparameter_optimizer = torch.optim.Adam([\n",
    "    {'params': model.hyperparameters()},\n",
    "    {'params': likelihood.parameters()},\n",
    "], lr=0.01)\n",
    "\n",
    "mll = gpytorch.mlls.VariationalELBO(likelihood, model, num_data=y.size(0))\n",
    "\n",
    "n_epochs = 1500\n",
    "for i in range(1, n_epochs + 1):\n",
    "    if i % (n_epochs // 10) == 0:\n",
    "        print(i)\n",
    "        print(loss.item())\n",
    "    variational_ngd_optimizer.zero_grad()\n",
    "    hyperparameter_optimizer.zero_grad()\n",
    "    output = model(X)\n",
    "    loss = -mll(output, y)\n",
    "    loss.backward()\n",
    "    variational_ngd_optimizer.step()\n",
    "    hyperparameter_optimizer.step()"
   ]
  },
  {
   "cell_type": "code",
   "execution_count": 505,
   "id": "ab842bec-0714-4a63-9385-5055dfb94a30",
   "metadata": {},
   "outputs": [
    {
     "data": {
      "text/plain": [
       "<Axes: xlabel='X1', ylabel='y'>"
      ]
     },
     "execution_count": 505,
     "metadata": {},
     "output_type": "execute_result"
    },
    {
     "data": {
      "image/png": "[encoded data removed]",
      "text/plain": [
       "<Figure size 640x480 with 1 Axes>"
      ]
     },
     "metadata": {},
     "output_type": "display_data"
    }
   ],
   "source": [
    "model.eval()\n",
    "likelihood.eval()\n",
    "with torch.no_grad():\n",
    "    preds = likelihood(model(X))\n",
    "\n",
    "results_df = pd.DataFrame(dict(\n",
    "    y=y.cpu().numpy(),\n",
    "    X1=X.cpu().numpy(),\n",
    "    preds=preds.sample().median(axis=0).values.cpu().numpy()\n",
    "))\n",
    "\n",
    "results_df.plot.scatter(\"X1\", \"y\")"
   ]
  },
  {
   "cell_type": "code",
   "execution_count": 506,
   "id": "c9f0854c-77af-49f5-bce7-e6a40a9ab8d4",
   "metadata": {},
   "outputs": [
    {
     "data": {
      "text/plain": [
       "<Axes: xlabel='X1', ylabel='preds'>"
      ]
     },
     "execution_count": 506,
     "metadata": {},
     "output_type": "execute_result"
    },
    {
     "data": {
      "image/png": "[encoded data removed]",
      "text/plain": [
       "<Figure size 640x480 with 1 Axes>"
      ]
     },
     "metadata": {},
     "output_type": "display_data"
    }
   ],
   "source": [
    "results_df.plot.scatter(\"X1\", \"preds\")"
   ]
  },
  {
   "cell_type": "code",
   "execution_count": 507,
   "id": "2545180c-2507-47a0-9ec9-8b038e6796fc",
   "metadata": {},
   "outputs": [
    {
     "data": {
      "text/plain": [
       "tensor([199.7776], device='cuda:0', dtype=torch.float64,\n",
       "       grad_fn=<SoftplusBackward0>)"
      ]
     },
     "execution_count": 507,
     "metadata": {},
     "output_type": "execute_result"
    }
   ],
   "source": [
    "likelihood.mu"
   ]
  },
  {
   "cell_type": "code",
   "execution_count": 508,
   "id": "1d4f20b0-f8b7-467d-805a-72bea492b0c7",
   "metadata": {},
   "outputs": [
    {
     "data": {
      "text/plain": [
       "tensor([[3.8088]], device='cuda:0', dtype=torch.float64,\n",
       "       grad_fn=<SoftplusBackward0>)"
      ]
     },
     "execution_count": 508,
     "metadata": {},
     "output_type": "execute_result"
    }
   ],
   "source": [
    "model.covar_module.base_kernel.lengthscale"
   ]
  }
 ],
 "metadata": {
  "kernelspec": {
   "display_name": "Python 3 (ipykernel)",
   "language": "python",
   "name": "python3"
  },
  "language_info": {
   "codemirror_mode": {
    "name": "ipython",
    "version": 3
   },
   "file_extension": ".py",
   "mimetype": "text/x-python",
   "name": "python",
   "nbconvert_exporter": "python",
   "pygments_lexer": "ipython3",
   "version": "3.10.17"
  }
 },
 "nbformat": 4,
 "nbformat_minor": 5
}
