{
 "cells": [
  {
   "cell_type": "code",
   "execution_count": 1,
   "id": "866a563b-05fe-4194-ad8c-5d106c38d855",
   "metadata": {},
   "outputs": [
    {
     "name": "stdout",
     "output_type": "stream",
     "text": [
      "         X1        X2   mu_pois    p_zero  y\n",
      "0  0.496714  1.399355  1.534022  0.590937  0\n",
      "1 -0.138264  0.924634  1.134084  0.418380  1\n",
      "2  0.647689  0.059630  2.548469  0.347862  2\n",
      "3  1.523030 -0.646937  5.813611  0.319508  5\n",
      "4 -0.234153  0.698223  1.134992  0.363895  0\n"
     ]
    }
   ],
   "source": [
    "import numpy as np\n",
    "import pandas as pd\n",
    "import matplotlib.pyplot as plt\n",
    "from scipy.special import expit  # Sigmoid function for logistic link\n",
    "\n",
    "def simulate_zip_with_covariates(n, beta_pois, beta_zero, seed=None):\n",
    "    if seed is not None:\n",
    "        np.random.seed(seed)\n",
    "\n",
    "    X1 = np.random.normal(0, 1, n)\n",
    "    X2 = np.random.normal(0, 1, n)\n",
    "\n",
    "    X = np.column_stack((np.ones(n), X1, X2))\n",
    "\n",
    "    logit_zi = X @ beta_zero\n",
    "    prob_zero = expit(logit_zi)  # Apply logistic link\n",
    "\n",
    "    is_zero = np.random.binomial(1, prob_zero)\n",
    "\n",
    "    log_mu = X @ beta_pois\n",
    "    mu = np.exp(log_mu)  # Apply log link\n",
    "\n",
    "    y_pois = np.random.poisson(mu)\n",
    "\n",
    "    y = np.where(is_zero == 1, 0, y_pois)\n",
    "    return pd.DataFrame({\n",
    "        'X1': X1,\n",
    "        'X2': X2,\n",
    "        'mu_pois': mu,\n",
    "        'p_zero': prob_zero,\n",
    "        'y': y\n",
    "    })\n",
    "\n",
    "beta_pois = np.array([0.5, 0.7, -0.3])     # Intercept and slopes for Poisson\n",
    "beta_zero = np.array([-1.0, 0.5, 0.8])     # Intercept and slopes for zero inflation\n",
    "df_zip = simulate_zip_with_covariates(n=1000, beta_pois=beta_pois, beta_zero=beta_zero, seed=42)\n",
    "\n",
    "print(df_zip.head())"
   ]
  },
  {
   "cell_type": "code",
   "execution_count": 2,
   "id": "d43075f1-0cdf-440c-b215-512620ebd1c3",
   "metadata": {},
   "outputs": [
    {
     "name": "stdout",
     "output_type": "stream",
     "text": [
      "Optimization terminated successfully.\n",
      "         Current function value: 1.425151\n",
      "         Iterations: 19\n",
      "         Function evaluations: 20\n",
      "         Gradient evaluations: 20\n"
     ]
    },
    {
     "data": {
      "text/html": [
       "<table class=\"simpletable\">\n",
       "<caption>ZeroInflatedPoisson Regression Results</caption>\n",
       "<tr>\n",
       "  <th>Dep. Variable:</th>            <td>y</td>          <th>  No. Observations:  </th>   <td>  1000</td>  \n",
       "</tr>\n",
       "<tr>\n",
       "  <th>Model:</th>           <td>ZeroInflatedPoisson</td> <th>  Df Residuals:      </th>   <td>   997</td>  \n",
       "</tr>\n",
       "<tr>\n",
       "  <th>Method:</th>                  <td>MLE</td>         <th>  Df Model:          </th>   <td>     2</td>  \n",
       "</tr>\n",
       "<tr>\n",
       "  <th>Date:</th>             <td>Fri, 18 Apr 2025</td>   <th>  Pseudo R-squ.:     </th>   <td>0.1975</td>  \n",
       "</tr>\n",
       "<tr>\n",
       "  <th>Time:</th>                 <td>02:21:58</td>       <th>  Log-Likelihood:    </th>  <td> -1425.2</td> \n",
       "</tr>\n",
       "<tr>\n",
       "  <th>converged:</th>              <td>True</td>         <th>  LL-Null:           </th>  <td> -1775.9</td> \n",
       "</tr>\n",
       "<tr>\n",
       "  <th>Covariance Type:</th>      <td>nonrobust</td>      <th>  LLR p-value:       </th> <td>4.902e-153</td>\n",
       "</tr>\n",
       "</table>\n",
       "<table class=\"simpletable\">\n",
       "<tr>\n",
       "        <td></td>           <th>coef</th>     <th>std err</th>      <th>z</th>      <th>P>|z|</th>  <th>[0.025</th>    <th>0.975]</th>  \n",
       "</tr>\n",
       "<tr>\n",
       "  <th>inflate_const</th> <td>   -1.0922</td> <td>    0.123</td> <td>   -8.907</td> <td> 0.000</td> <td>   -1.332</td> <td>   -0.852</td>\n",
       "</tr>\n",
       "<tr>\n",
       "  <th>inflate_x1</th>    <td>    0.5059</td> <td>    0.114</td> <td>    4.426</td> <td> 0.000</td> <td>    0.282</td> <td>    0.730</td>\n",
       "</tr>\n",
       "<tr>\n",
       "  <th>inflate_x2</th>    <td>    0.6924</td> <td>    0.106</td> <td>    6.557</td> <td> 0.000</td> <td>    0.485</td> <td>    0.899</td>\n",
       "</tr>\n",
       "<tr>\n",
       "  <th>const</th>         <td>    0.5198</td> <td>    0.034</td> <td>   15.085</td> <td> 0.000</td> <td>    0.452</td> <td>    0.587</td>\n",
       "</tr>\n",
       "<tr>\n",
       "  <th>x1</th>            <td>    0.6809</td> <td>    0.028</td> <td>   24.722</td> <td> 0.000</td> <td>    0.627</td> <td>    0.735</td>\n",
       "</tr>\n",
       "<tr>\n",
       "  <th>x2</th>            <td>   -0.3111</td> <td>    0.029</td> <td>  -10.843</td> <td> 0.000</td> <td>   -0.367</td> <td>   -0.255</td>\n",
       "</tr>\n",
       "</table>"
      ],
      "text/latex": [
       "\\begin{center}\n",
       "\\begin{tabular}{lclc}\n",
       "\\toprule\n",
       "\\textbf{Dep. Variable:}   &          y          & \\textbf{  No. Observations:  } &     1000    \\\\\n",
       "\\textbf{Model:}           & ZeroInflatedPoisson & \\textbf{  Df Residuals:      } &      997    \\\\\n",
       "\\textbf{Method:}          &         MLE         & \\textbf{  Df Model:          } &        2    \\\\\n",
       "\\textbf{Date:}            &   Fri, 18 Apr 2025  & \\textbf{  Pseudo R-squ.:     } &   0.1975    \\\\\n",
       "\\textbf{Time:}            &       02:21:58      & \\textbf{  Log-Likelihood:    } &   -1425.2   \\\\\n",
       "\\textbf{converged:}       &         True        & \\textbf{  LL-Null:           } &   -1775.9   \\\\\n",
       "\\textbf{Covariance Type:} &      nonrobust      & \\textbf{  LLR p-value:       } & 4.902e-153  \\\\\n",
       "\\bottomrule\n",
       "\\end{tabular}\n",
       "\\begin{tabular}{lcccccc}\n",
       "                        & \\textbf{coef} & \\textbf{std err} & \\textbf{z} & \\textbf{P$> |$z$|$} & \\textbf{[0.025} & \\textbf{0.975]}  \\\\\n",
       "\\midrule\n",
       "\\textbf{inflate\\_const} &      -1.0922  &        0.123     &    -8.907  &         0.000        &       -1.332    &       -0.852     \\\\\n",
       "\\textbf{inflate\\_x1}    &       0.5059  &        0.114     &     4.426  &         0.000        &        0.282    &        0.730     \\\\\n",
       "\\textbf{inflate\\_x2}    &       0.6924  &        0.106     &     6.557  &         0.000        &        0.485    &        0.899     \\\\\n",
       "\\textbf{const}          &       0.5198  &        0.034     &    15.085  &         0.000        &        0.452    &        0.587     \\\\\n",
       "\\textbf{x1}             &       0.6809  &        0.028     &    24.722  &         0.000        &        0.627    &        0.735     \\\\\n",
       "\\textbf{x2}             &      -0.3111  &        0.029     &   -10.843  &         0.000        &       -0.367    &       -0.255     \\\\\n",
       "\\bottomrule\n",
       "\\end{tabular}\n",
       "%\\caption{ZeroInflatedPoisson Regression Results}\n",
       "\\end{center}"
      ],
      "text/plain": [
       "<class 'statsmodels.iolib.summary.Summary'>\n",
       "\"\"\"\n",
       "                     ZeroInflatedPoisson Regression Results                    \n",
       "===============================================================================\n",
       "Dep. Variable:                       y   No. Observations:                 1000\n",
       "Model:             ZeroInflatedPoisson   Df Residuals:                      997\n",
       "Method:                            MLE   Df Model:                            2\n",
       "Date:                 Fri, 18 Apr 2025   Pseudo R-squ.:                  0.1975\n",
       "Time:                         02:21:58   Log-Likelihood:                -1425.2\n",
       "converged:                        True   LL-Null:                       -1775.9\n",
       "Covariance Type:             nonrobust   LLR p-value:                4.902e-153\n",
       "=================================================================================\n",
       "                    coef    std err          z      P>|z|      [0.025      0.975]\n",
       "---------------------------------------------------------------------------------\n",
       "inflate_const    -1.0922      0.123     -8.907      0.000      -1.332      -0.852\n",
       "inflate_x1        0.5059      0.114      4.426      0.000       0.282       0.730\n",
       "inflate_x2        0.6924      0.106      6.557      0.000       0.485       0.899\n",
       "const             0.5198      0.034     15.085      0.000       0.452       0.587\n",
       "x1                0.6809      0.028     24.722      0.000       0.627       0.735\n",
       "x2               -0.3111      0.029    -10.843      0.000      -0.367      -0.255\n",
       "=================================================================================\n",
       "\"\"\""
      ]
     },
     "execution_count": 2,
     "metadata": {},
     "output_type": "execute_result"
    }
   ],
   "source": [
    "from statsmodels.tools.tools import add_constant\n",
    "\n",
    "X = df_zip[[ \"X1\", \"X2\" ]].values\n",
    "X = add_constant(X)\n",
    "y = df_zip[[ \"y\" ]].values\n",
    "\n",
    "from statsmodels.discrete.count_model import ZeroInflatedPoisson\n",
    "\n",
    "model = ZeroInflatedPoisson(endog=y,\n",
    "                            exog=X,\n",
    "                            exog_infl=X\n",
    "                           )\n",
    "\n",
    "\n",
    "modelzip = model.fit()\n",
    "modelzip.summary()"
   ]
  },
  {
   "cell_type": "code",
   "execution_count": 29,
   "id": "53803b0e-b25e-446a-9e23-9be0fa48bb49",
   "metadata": {},
   "outputs": [],
   "source": [
    "\n",
    "from typing import Any, Optional\n",
    "\n",
    "import torch\n",
    "from torch import Tensor\n",
    "from torch.distributions import Laplace\n",
    "\n",
    "from gpytorch.constraints import Interval, Positive\n",
    "from gpytorch.distributions import base_distributions\n",
    "from gpytorch.priors import Prior\n",
    "from gpytorch.likelihoods.likelihood import _OneDimensionalLikelihood\n",
    "\n",
    "class ZeroInflatedPoissonLikelihood(_OneDimensionalLikelihood):\n",
    "    def __init__(\n",
    "        self,\n",
    "        batch_shape: torch.Size = torch.Size([])\n",
    "    ) -> None:\n",
    "        super().__init__()\n",
    "\n",
    "        self.raw_mu = torch.nn.Parameter(torch.ones(*batch_shape, 1))\n",
    "        self.raw_pi = torch.nn.Parameter(torch.ones(*batch_shape, 1))\n",
    "        \n",
    "        mu_constraint = Positive()\n",
    "        pi_constraint = Interval(0, 1)\n",
    "        \n",
    "        self.register_constraint(\"raw_mu\", mu_constraint)\n",
    "        self.register_constraint(\"raw_pi\", pi_constraint)\n",
    "\n",
    "    @property\n",
    "    def mu(self) -> Tensor:\n",
    "        return self.raw_mu_constraint.transform(self.raw_mu)\n",
    "        \n",
    "    @property\n",
    "    def pi(self) -> Tensor:\n",
    "        return self.raw_pi_constraint.transform(self.raw_pi)\n",
    "\n",
    "    @mu.setter\n",
    "    def mu(self, value: Tensor) -> None:\n",
    "        self._set_mu(value)\n",
    "        \n",
    "    @pi.setter\n",
    "    def pi(self, value: Tensor) -> None:\n",
    "        self._set_pi(value)\n",
    "\n",
    "    def _set_mu(self, value: Tensor) -> None:\n",
    "        if not torch.is_tensor(value):\n",
    "            value = torch.as_tensor(value).to(self.raw_mu)\n",
    "        self.initialize(raw_mu=self.raw_mu_constraint.inverse_transform(value))\n",
    "        \n",
    "    def _set_pi(self, value: Tensor) -> None:\n",
    "        if not torch.is_tensor(value):\n",
    "            value = torch.as_tensor(value).to(self.raw_pi)\n",
    "        self.initialize(raw_pi=self.raw_pi_constraint.inverse_transform(value))\n",
    "\n",
    "    def forward(self, function_samples: Tensor, *args: Any, **kwargs: Any) -> base_distributions.ZeroInflatedPoisson:\n",
    "        rate = torch.exp(function_samples)  * self.mu\n",
    "        #pi = torch.sigmoid(function_samples * self.pi)\n",
    "        pi = self.pi\n",
    "        return base_distributions.ZeroInflatedPoisson(rate=rate, gate=pi)"
   ]
  },
  {
   "cell_type": "code",
   "execution_count": 4,
   "id": "910f0564-3cc1-4c0f-bb12-fcfc50d92e3a",
   "metadata": {},
   "outputs": [],
   "source": [
    "class PoissonLikelihood(_OneDimensionalLikelihood):\n",
    "    def __init__(\n",
    "        self,\n",
    "        batch_shape: torch.Size = torch.Size([])\n",
    "    ) -> None:\n",
    "        super().__init__()\n",
    "\n",
    "        self.raw_mu = torch.nn.Parameter(torch.ones(*batch_shape, 1))\n",
    "        \n",
    "        mu_constraint = Positive()\n",
    "        \n",
    "        self.register_constraint(\"raw_mu\", mu_constraint)\n",
    "\n",
    "    @property\n",
    "    def mu(self) -> Tensor:\n",
    "        return self.raw_mu_constraint.transform(self.raw_mu)\n",
    "\n",
    "    @mu.setter\n",
    "    def mu(self, value: Tensor) -> None:\n",
    "        self._set_mu(value)\n",
    "        \n",
    "    def _set_mu(self, value: Tensor) -> None:\n",
    "        if not torch.is_tensor(value):\n",
    "            value = torch.as_tensor(value).to(self.raw_mu)\n",
    "        self.initialize(raw_mu=self.raw_mu_constraint.inverse_transform(value))\n",
    "\n",
    "    def forward(self, function_samples: Tensor, *args: Any, **kwargs: Any) -> base_distributions.Poisson:\n",
    "        rate = torch.exp(function_samples) * self.mu\n",
    "        return base_distributions.Poisson(rate=rate)"
   ]
  },
  {
   "cell_type": "code",
   "execution_count": 5,
   "id": "dc9cf45f-8fc7-4039-9085-0d9d1a59e116",
   "metadata": {},
   "outputs": [],
   "source": [
    "import urllib.request\n",
    "import os\n",
    "from scipy.io import loadmat\n",
    "from math import floor\n",
    "import math\n",
    "import torch\n",
    "import gpytorch\n",
    "from matplotlib import pyplot as plt\n",
    "\n",
    "from gpytorch.models import ApproximateGP\n",
    "from gpytorch.variational import CholeskyVariationalDistribution, DeltaVariationalDistribution, MeanFieldVariationalDistribution\n",
    "from gpytorch.variational import VariationalStrategy\n",
    "from sklearn.preprocessing import MinMaxScaler, StandardScaler\n",
    "\n",
    "N = 500\n",
    "X = torch.normal(mean=0, std =1, size=(1,N)).double().cuda().flatten()\n",
    "y = base_distributions.Poisson(rate=torch.exp(X)).sample().double().cuda().flatten()"
   ]
  },
  {
   "cell_type": "code",
   "execution_count": 16,
   "id": "c4d5e976-c080-4ba3-9a5f-c9a2942d8340",
   "metadata": {},
   "outputs": [
    {
     "name": "stdout",
     "output_type": "stream",
     "text": [
      "50\n",
      "1.3169001785181198\n",
      "100\n",
      "1.3168870760420692\n",
      "150\n",
      "1.3168833873941026\n",
      "200\n",
      "1.316879508649663\n",
      "250\n",
      "1.3168755216631043\n",
      "300\n",
      "1.316871474607568\n",
      "350\n",
      "1.3168673981471615\n",
      "400\n",
      "1.3168633138733956\n",
      "450\n",
      "1.3168592375824122\n",
      "500\n",
      "1.3168551811550107\n"
     ]
    }
   ],
   "source": [
    "import math\n",
    "\n",
    "class LargeFeatureExtractor(torch.nn.Sequential):\n",
    "    def __init__(self):\n",
    "        super(LargeFeatureExtractor, self).__init__()\n",
    "        self.add_module('linear2', torch.nn.Linear(1, 500))\n",
    "        self.add_module('relu2', torch.nn.ReLU())\n",
    "        self.add_module('linear3', torch.nn.Linear(500, 50))\n",
    "        self.add_module('relu3', torch.nn.ReLU())\n",
    "        self.add_module('linear4', torch.nn.Linear(50, 1))\n",
    "\n",
    "\n",
    "class GPModel(ApproximateGP):\n",
    "    def __init__(self, inducing_points, feature_extractor):\n",
    "        variational_distribution = gpytorch.variational.NaturalVariationalDistribution(inducing_points.size(0))\n",
    "        variational_strategy = gpytorch.variational.VariationalStrategy(\n",
    "            self, inducing_points, variational_distribution, learn_inducing_locations=True\n",
    "        )\n",
    "        super(GPModel, self).__init__(variational_strategy)\n",
    "        self.mean_module = gpytorch.means.ConstantMean()\n",
    "        self.covar_module = gpytorch.kernels.ScaleKernel(\n",
    "            gpytorch.kernels.LinearKernel(),\n",
    "            # outputscale_prior=gpytorch.priors.SmoothedBoxPrior(y.min(), y.max())\n",
    "        )\n",
    "        \n",
    "        # self.feature_extractor = feature_extractor\n",
    "        # self.scale_to_bounds = gpytorch.utils.grid.ScaleToBounds(-1., 1.)\n",
    "\n",
    "    def forward(self, x):\n",
    "        # projected_x = self.feature_extractor(x)\n",
    "        # projected_x = self.scale_to_bounds(projected_x)  \n",
    "        mean_x = self.mean_module(x)\n",
    "        covar_x = self.covar_module(x)\n",
    "        return gpytorch.distributions.MultivariateNormal(mean_x, covar_x)\n",
    "\n",
    "feature_extractor = LargeFeatureExtractor()\n",
    "inducing_points = X.clone()\n",
    "M = 30\n",
    "inducing_points = torch.normal(mean=0, std =1, size=(1,N)).double().cuda().flatten()\n",
    "model = GPModel(inducing_points=inducing_points, feature_extractor=feature_extractor).double()\n",
    "likelihood = ZeroInflatedPoissonLikelihood().double()\n",
    "likelihood = PoissonLikelihood().double()\n",
    "\n",
    "if torch.cuda.is_available():\n",
    "    model = model.cuda()\n",
    "    likelihood = likelihood.cuda()\n",
    "\n",
    "model.train()\n",
    "#model.covar_module.base_kernel.initialize(lengthscale=5)\n",
    "likelihood.train()\n",
    "#likelihood.initialize(mu=200)\n",
    "\n",
    "variational_ngd_optimizer = gpytorch.optim.NGD(model.variational_parameters(), num_data=y.size(0), lr=0.1)\n",
    "\n",
    "hyperparameter_optimizer = torch.optim.Adam([\n",
    "    {'params': model.hyperparameters()},\n",
    "    {'params': likelihood.parameters()},\n",
    "], lr=0.01)\n",
    "\n",
    "mll = gpytorch.mlls.VariationalELBO(likelihood, model, num_data=y.size(0))\n",
    "\n",
    "n_epochs = 500\n",
    "for i in range(1, n_epochs + 1):\n",
    "    if i % (n_epochs // 10) == 0:\n",
    "        print(i)\n",
    "        print(loss.item())\n",
    "    variational_ngd_optimizer.zero_grad()\n",
    "    hyperparameter_optimizer.zero_grad()\n",
    "    output = model(X)\n",
    "    loss = -mll(output, y)\n",
    "    loss.backward()\n",
    "    variational_ngd_optimizer.step()\n",
    "    hyperparameter_optimizer.step()"
   ]
  },
  {
   "cell_type": "code",
   "execution_count": 17,
   "id": "fffc67a7-2002-4577-99a8-90e7ff3ed0b0",
   "metadata": {},
   "outputs": [],
   "source": [
    "model.eval()\n",
    "likelihood.eval()\n",
    "with torch.no_grad():\n",
    "    preds = likelihood(model(X))"
   ]
  },
  {
   "cell_type": "code",
   "execution_count": 18,
   "id": "9cb4cb01-6861-4584-9900-69e6fb147896",
   "metadata": {},
   "outputs": [
    {
     "name": "stdout",
     "output_type": "stream",
     "text": [
      "0.0026184585134509373 1.4406997864042883 0.8508643313812956 0.006600070279091597\n"
     ]
    }
   ],
   "source": [
    "print(\n",
    "    gpytorch.metrics.negative_log_predictive_density(preds, y).mean().item(),\n",
    "    gpytorch.metrics.mean_squared_error(preds, y, squared=True).mean().item(),\n",
    "    gpytorch.metrics.mean_absolute_error(preds, y).mean().item(),\n",
    "    gpytorch.metrics.quantile_coverage_error(preds, y, quantile=95).mean().item(),\n",
    ")"
   ]
  },
  {
   "cell_type": "code",
   "execution_count": 19,
   "id": "743bc0ea-7c15-46f9-baaa-f0ceabe54a1f",
   "metadata": {},
   "outputs": [
    {
     "data": {
      "text/plain": [
       "<Axes: xlabel='X1', ylabel='y'>"
      ]
     },
     "execution_count": 19,
     "metadata": {},
     "output_type": "execute_result"
    },
    {
     "data": {
      "image/png": "[encoded data removed]",
      "text/plain": [
       "<Figure size 640x480 with 1 Axes>"
      ]
     },
     "metadata": {},
     "output_type": "display_data"
    }
   ],
   "source": [
    "results_df = pd.DataFrame(dict(\n",
    "    y=y.cpu().numpy(),\n",
    "    X1=X.cpu().numpy(),\n",
    "    preds=preds.sample().median(axis=0).values.cpu().numpy()\n",
    "))\n",
    "\n",
    "results_df.plot.scatter(\"X1\", \"y\")"
   ]
  },
  {
   "cell_type": "code",
   "execution_count": 20,
   "id": "d11b52ea-afae-4f2b-8445-5ee438e655bc",
   "metadata": {},
   "outputs": [
    {
     "data": {
      "text/plain": [
       "<Axes: xlabel='X1', ylabel='preds'>"
      ]
     },
     "execution_count": 20,
     "metadata": {},
     "output_type": "execute_result"
    },
    {
     "data": {
      "image/png": "[encoded data removed]",
      "text/plain": [
       "<Figure size 640x480 with 1 Axes>"
      ]
     },
     "metadata": {},
     "output_type": "display_data"
    }
   ],
   "source": [
    "results_df.plot.scatter(\"X1\", \"preds\")"
   ]
  },
  {
   "cell_type": "code",
   "execution_count": 30,
   "id": "bf068bc9-a651-4944-a660-2b0569f27719",
   "metadata": {},
   "outputs": [],
   "source": [
    "N = 500\n",
    "X = torch.normal(mean=0, std =1, size=(1,N)).double().cuda().flatten()\n",
    "y = base_distributions.ZeroInflatedPoisson(\n",
    "    rate=torch.exp(X), gate=torch.tensor([0.25]).double().cuda()\n",
    ").sample().double().cuda().flatten()"
   ]
  },
  {
   "cell_type": "code",
   "execution_count": 32,
   "id": "7b41ba03-506c-4e5b-a313-ff49954613fe",
   "metadata": {},
   "outputs": [
    {
     "name": "stdout",
     "output_type": "stream",
     "text": [
      "50\n",
      "1.2006873249195469\n",
      "100\n",
      "1.1960175877019141\n",
      "150\n",
      "1.1957509886475457\n",
      "200\n",
      "1.1957413516519937\n",
      "250\n",
      "1.1957385096377464\n",
      "300\n",
      "1.1957357072704238\n",
      "350\n",
      "1.1957328831170464\n",
      "400\n",
      "1.1957300466932008\n",
      "450\n",
      "1.1957272059694974\n",
      "500\n",
      "1.1957243668833557\n"
     ]
    }
   ],
   "source": [
    "class GPModel(ApproximateGP):\n",
    "    def __init__(self, inducing_points, feature_extractor):\n",
    "        variational_distribution = gpytorch.variational.NaturalVariationalDistribution(inducing_points.size(0))\n",
    "        variational_strategy = gpytorch.variational.VariationalStrategy(\n",
    "            self, inducing_points, variational_distribution, learn_inducing_locations=True\n",
    "        )\n",
    "        super(GPModel, self).__init__(variational_strategy)\n",
    "        self.mean_module = gpytorch.means.ConstantMean()\n",
    "        self.covar_module = gpytorch.kernels.ScaleKernel(\n",
    "            gpytorch.kernels.LinearKernel(),\n",
    "            # outputscale_prior=gpytorch.priors.SmoothedBoxPrior(y.min(), y.max())\n",
    "        )\n",
    "        \n",
    "        # self.feature_extractor = feature_extractor\n",
    "        # self.scale_to_bounds = gpytorch.utils.grid.ScaleToBounds(-1., 1.)\n",
    "\n",
    "    def forward(self, x):\n",
    "        # projected_x = self.feature_extractor(x)\n",
    "        # projected_x = self.scale_to_bounds(projected_x)  \n",
    "        mean_x = self.mean_module(x)\n",
    "        covar_x = self.covar_module(x)\n",
    "        return gpytorch.distributions.MultivariateNormal(mean_x, covar_x)\n",
    "\n",
    "inducing_points = X.clone()\n",
    "M = 100\n",
    "inducing_points = torch.normal(mean=0, std =1, size=(1,N)).double().cuda().flatten()\n",
    "model = GPModel(inducing_points=inducing_points, feature_extractor=feature_extractor).double()\n",
    "likelihood = ZeroInflatedPoissonLikelihood().double()\n",
    "\n",
    "if torch.cuda.is_available():\n",
    "    model = model.cuda()\n",
    "    likelihood = likelihood.cuda()\n",
    "\n",
    "model.train()\n",
    "# model.covar_module.base_kernel.initialize(lengthscale=5)\n",
    "likelihood.train()\n",
    "likelihood.initialize(pi=0.25)\n",
    "\n",
    "variational_ngd_optimizer = gpytorch.optim.NGD(model.variational_parameters(), num_data=y.size(0), lr=0.1)\n",
    "\n",
    "hyperparameter_optimizer = torch.optim.Adam([\n",
    "    {'params': model.hyperparameters()},\n",
    "    {'params': likelihood.parameters()},\n",
    "], lr=0.01)\n",
    "\n",
    "mll = gpytorch.mlls.VariationalELBO(likelihood, model, num_data=y.size(0))\n",
    "\n",
    "n_epochs = 500\n",
    "for i in range(1, n_epochs + 1):\n",
    "    if i % (n_epochs // 10) == 0:\n",
    "        print(i)\n",
    "        print(loss.item())\n",
    "    variational_ngd_optimizer.zero_grad()\n",
    "    hyperparameter_optimizer.zero_grad()\n",
    "    output = model(X)\n",
    "    loss = -mll(output, y)\n",
    "    loss.backward()\n",
    "    variational_ngd_optimizer.step()\n",
    "    hyperparameter_optimizer.step()"
   ]
  },
  {
   "cell_type": "code",
   "execution_count": 33,
   "id": "ab842bec-0714-4a63-9385-5055dfb94a30",
   "metadata": {},
   "outputs": [
    {
     "data": {
      "text/plain": [
       "<Axes: xlabel='X1', ylabel='y'>"
      ]
     },
     "execution_count": 33,
     "metadata": {},
     "output_type": "execute_result"
    },
    {
     "data": {
      "image/png": "[encoded data removed]",
      "text/plain": [
       "<Figure size 640x480 with 1 Axes>"
      ]
     },
     "metadata": {},
     "output_type": "display_data"
    }
   ],
   "source": [
    "model.eval()\n",
    "likelihood.eval()\n",
    "with torch.no_grad():\n",
    "    preds = likelihood(model(X))\n",
    "\n",
    "results_df = pd.DataFrame(dict(\n",
    "    y=y.cpu().numpy(),\n",
    "    X1=X.cpu().numpy(),\n",
    "    preds=preds.sample().median(axis=0).values.cpu().numpy()\n",
    "))\n",
    "\n",
    "results_df.plot.scatter(\"X1\", \"y\")"
   ]
  },
  {
   "cell_type": "code",
   "execution_count": 34,
   "id": "c9f0854c-77af-49f5-bce7-e6a40a9ab8d4",
   "metadata": {},
   "outputs": [
    {
     "data": {
      "text/plain": [
       "<Axes: xlabel='X1', ylabel='preds'>"
      ]
     },
     "execution_count": 34,
     "metadata": {},
     "output_type": "execute_result"
    },
    {
     "data": {
      "image/png": "[encoded data removed]",
      "text/plain": [
       "<Figure size 640x480 with 1 Axes>"
      ]
     },
     "metadata": {},
     "output_type": "display_data"
    }
   ],
   "source": [
    "results_df.plot.scatter(\"X1\", \"preds\")"
   ]
  },
  {
   "cell_type": "code",
   "execution_count": null,
   "id": "e189bbf0-e000-4fff-a73b-3d79fe6a89af",
   "metadata": {},
   "outputs": [],
   "source": []
  }
 ],
 "metadata": {
  "kernelspec": {
   "display_name": "Python 3 (ipykernel)",
   "language": "python",
   "name": "python3"
  },
  "language_info": {
   "codemirror_mode": {
    "name": "ipython",
    "version": 3
   },
   "file_extension": ".py",
   "mimetype": "text/x-python",
   "name": "python",
   "nbconvert_exporter": "python",
   "pygments_lexer": "ipython3",
   "version": "3.10.17"
  }
 },
 "nbformat": 4,
 "nbformat_minor": 5
}
