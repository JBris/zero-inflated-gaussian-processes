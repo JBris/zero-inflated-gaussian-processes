{
 "cells": [
  {
   "cell_type": "code",
   "execution_count": 1,
   "id": "d6ef6310-9746-4bc9-b262-40e1a96493c4",
   "metadata": {},
   "outputs": [],
   "source": [
    "import numpy as np\n",
    "import pandas as pd\n",
    "import matplotlib.pyplot as plt\n",
    "from scipy.special import expit  # Sigmoid function for logistic link\n",
    "\n",
    "from typing import Any, Optional\n",
    "\n",
    "import torch\n",
    "from torch import Tensor\n",
    "from torch.distributions import Laplace\n",
    "\n",
    "from gpytorch.constraints import Interval, Positive\n",
    "from gpytorch.distributions import base_distributions\n",
    "from gpytorch.priors import Prior\n",
    "from gpytorch.likelihoods.likelihood import _OneDimensionalLikelihood\n",
    "\n",
    "from typing import Any, Optional\n",
    "\n",
    "import torch\n",
    "from torch import Tensor\n",
    "from torch.distributions import Laplace\n",
    "\n",
    "from gpytorch.constraints import Interval, Positive\n",
    "from gpytorch.distributions import base_distributions\n",
    "from gpytorch.priors import Prior\n",
    "from gpytorch.likelihoods.likelihood import _OneDimensionalLikelihood\n",
    "\n",
    "\n",
    "import urllib.request\n",
    "import os\n",
    "from scipy.io import loadmat\n",
    "from math import floor\n",
    "import math\n",
    "import torch\n",
    "import gpytorch\n",
    "from matplotlib import pyplot as plt\n",
    "\n",
    "from gpytorch.models import ApproximateGP\n",
    "from gpytorch.variational import CholeskyVariationalDistribution, DeltaVariationalDistribution, MeanFieldVariationalDistribution\n",
    "from gpytorch.variational import VariationalStrategy\n",
    "from sklearn.preprocessing import MinMaxScaler, StandardScaler\n",
    "\n",
    "\n",
    "N = 1000\n",
    "r = 1\n",
    "pi=0.35\n",
    "X = torch.normal(mean=0, std =1, size=(1,N)).double().cuda().flatten()\n",
    "mu = torch.exp(X)\n",
    "probs = r / (mu + r)\n",
    "y = base_distributions.ZeroInflatedNegativeBinomial(\n",
    "    total_count = r, probs=probs, gate=torch.tensor([pi]).double().cuda()\n",
    ").sample().double().cuda().flatten()"
   ]
  },
  {
   "cell_type": "code",
   "execution_count": 2,
   "id": "dbb5cd07-c229-49c6-b941-745f86a095af",
   "metadata": {},
   "outputs": [],
   "source": [
    "from typing import Any, Optional\n",
    "\n",
    "import torch\n",
    "from torch import Tensor\n",
    "from torch.distributions import Laplace\n",
    "\n",
    "from gpytorch.constraints import Interval, Positive\n",
    "from gpytorch.distributions import base_distributions\n",
    "from gpytorch.priors import Prior\n",
    "from gpytorch.likelihoods.likelihood import _OneDimensionalLikelihood\n",
    "\n",
    "class ZeroInflatedNegativeBinomialLikelihood(_OneDimensionalLikelihood):\n",
    "    def __init__(\n",
    "        self,\n",
    "        batch_shape: torch.Size = torch.Size([])\n",
    "    ) -> None:\n",
    "        super().__init__()        \n",
    "        \n",
    "    def forward(self, function_samples: Tensor, *args: Any, **kwargs: Any) -> base_distributions.ZeroInflatedNegativeBinomial:\n",
    "        gate_logits = function_samples[..., 0]\n",
    "        total_count_log = function_samples[..., 1]\n",
    "        probs_logits = function_samples[..., 2]\n",
    "\n",
    "        r = torch.exp(total_count_log)\n",
    "        n = torch.sigmoid(probs_logits)\n",
    "        pi = torch.sigmoid(gate_logits)\n",
    "\n",
    "        return base_distributions.ZeroInflatedNegativeBinomial(total_count = r, probs=n, gate=pi)"
   ]
  },
  {
   "cell_type": "code",
   "execution_count": 3,
   "id": "c0a3edc3-5ddc-40b5-a4d8-ad128df3dac9",
   "metadata": {},
   "outputs": [
    {
     "name": "stdout",
     "output_type": "stream",
     "text": [
      "50\n",
      "1.1518954381578825\n",
      "100\n",
      "1.1496353102893404\n",
      "150\n",
      "1.1488953317649913\n",
      "200\n",
      "1.1487279331499645\n",
      "250\n",
      "1.1486820693474034\n",
      "300\n",
      "1.1486571388788025\n",
      "350\n",
      "1.1486358772188006\n",
      "400\n",
      "1.1486158004266862\n",
      "450\n",
      "1.1485966260710303\n",
      "500\n",
      "1.1485783361754751\n"
     ]
    }
   ],
   "source": [
    "class GPModel(ApproximateGP):\n",
    "    def __init__(self, inducing_points, num_tasks):\n",
    "        variational_distribution = gpytorch.variational.NaturalVariationalDistribution(inducing_points.size(0), batch_shape=torch.Size([num_tasks]))\n",
    "        variational_strategy = gpytorch.variational.IndependentMultitaskVariationalStrategy(\n",
    "            gpytorch.variational.VariationalStrategy(\n",
    "                self, inducing_points, variational_distribution, learn_inducing_locations=True\n",
    "            ), \n",
    "            num_tasks=num_tasks\n",
    "        )\n",
    "        \n",
    "\n",
    "        super(GPModel, self).__init__(variational_strategy)\n",
    "        self.mean_module = gpytorch.means.ConstantMean(batch_shape=torch.Size([num_tasks]))\n",
    "        self.covar_module = gpytorch.kernels.ScaleKernel(\n",
    "            gpytorch.kernels.LinearKernel(batch_shape=torch.Size([num_tasks])),\n",
    "            batch_shape=torch.Size([num_tasks])\n",
    "        )\n",
    "\n",
    "    def forward(self, x):\n",
    "        mean_x = self.mean_module(x)\n",
    "        covar_x = self.covar_module(x)\n",
    "        return gpytorch.distributions.MultivariateNormal(mean_x, covar_x)\n",
    "\n",
    "inducing_points = X.clone()\n",
    "M = 100\n",
    "inducing_points = torch.normal(mean=0, std =1, size=(1,N)).double().cuda().flatten()\n",
    "model = GPModel(inducing_points=inducing_points, num_tasks=3).double()\n",
    "likelihood = ZeroInflatedNegativeBinomialLikelihood().double()\n",
    "\n",
    "if torch.cuda.is_available():\n",
    "    model = model.cuda()\n",
    "    likelihood = likelihood.cuda()\n",
    "\n",
    "model.train()\n",
    "likelihood.train()\n",
    "likelihood.initialize()\n",
    "\n",
    "variational_ngd_optimizer = gpytorch.optim.NGD(model.variational_parameters(), num_data=y.size(0), lr=0.1)\n",
    "\n",
    "hyperparameter_optimizer = torch.optim.Adam([\n",
    "    {'params': model.hyperparameters()},\n",
    "    {'params': likelihood.parameters()},\n",
    "], lr=0.01)\n",
    "\n",
    "mll = gpytorch.mlls.VariationalELBO(likelihood, model, num_data=y.size(0))\n",
    "\n",
    "n_epochs = 500\n",
    "for i in range(1, n_epochs + 1):\n",
    "    if i % (n_epochs // 10) == 0:\n",
    "        print(i)\n",
    "        print(loss.item())\n",
    "    variational_ngd_optimizer.zero_grad()\n",
    "    hyperparameter_optimizer.zero_grad()\n",
    "    output = model(X)\n",
    "    loss = -mll(output, y)\n",
    "    loss.backward()\n",
    "    variational_ngd_optimizer.step()\n",
    "    hyperparameter_optimizer.step()"
   ]
  },
  {
   "cell_type": "code",
   "execution_count": 10,
   "id": "18751fd8-1f60-4a16-9c27-e1c17f9a0966",
   "metadata": {},
   "outputs": [
    {
     "data": {
      "text/plain": [
       "<Axes: xlabel='X1', ylabel='y'>"
      ]
     },
     "execution_count": 10,
     "metadata": {},
     "output_type": "execute_result"
    },
    {
     "data": {
      "image/png": "[encoded data removed]",
      "text/plain": [
       "<Figure size 640x480 with 1 Axes>"
      ]
     },
     "metadata": {},
     "output_type": "display_data"
    }
   ],
   "source": [
    "model.eval()\n",
    "likelihood.eval()\n",
    "with torch.no_grad():\n",
    "    preds = likelihood(model(X))\n",
    "\n",
    "results_df = pd.DataFrame(dict(\n",
    "    y=y.cpu().numpy(),\n",
    "    X1=X.cpu().numpy(),\n",
    "    preds=preds.sample().median(axis=0).values.cpu().numpy()\n",
    "))\n",
    "\n",
    "results_df.plot.scatter(\"X1\", \"y\")"
   ]
  },
  {
   "cell_type": "code",
   "execution_count": 11,
   "id": "8e213a12-ada9-410c-ae2e-28beae4d8a29",
   "metadata": {},
   "outputs": [
    {
     "data": {
      "text/plain": [
       "<Axes: xlabel='X1', ylabel='preds'>"
      ]
     },
     "execution_count": 11,
     "metadata": {},
     "output_type": "execute_result"
    },
    {
     "data": {
      "image/png": "[encoded data removed]",
      "text/plain": [
       "<Figure size 640x480 with 1 Axes>"
      ]
     },
     "metadata": {},
     "output_type": "display_data"
    }
   ],
   "source": [
    "results_df.plot.scatter(\"X1\", \"preds\")"
   ]
  },
  {
   "cell_type": "code",
   "execution_count": null,
   "id": "978552e2-24da-478e-9c64-2317cd5fbfb9",
   "metadata": {},
   "outputs": [],
   "source": []
  }
 ],
 "metadata": {
  "kernelspec": {
   "display_name": "Python 3 (ipykernel)",
   "language": "python",
   "name": "python3"
  },
  "language_info": {
   "codemirror_mode": {
    "name": "ipython",
    "version": 3
   },
   "file_extension": ".py",
   "mimetype": "text/x-python",
   "name": "python",
   "nbconvert_exporter": "python",
   "pygments_lexer": "ipython3",
   "version": "3.10.17"
  }
 },
 "nbformat": 4,
 "nbformat_minor": 5
}
