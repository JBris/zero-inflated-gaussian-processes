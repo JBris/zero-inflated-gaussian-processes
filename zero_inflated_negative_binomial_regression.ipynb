{
 "cells": [
  {
   "cell_type": "code",
   "execution_count": 16,
   "id": "f0ab5256-b073-44d0-9724-e98d7109d27a",
   "metadata": {},
   "outputs": [],
   "source": [
    "import numpy as np\n",
    "import pandas as pd\n",
    "import matplotlib.pyplot as plt\n",
    "from scipy.special import expit  # Sigmoid function for logistic link\n",
    "\n",
    "from typing import Any, Optional\n",
    "\n",
    "import torch\n",
    "from torch import Tensor\n",
    "from torch.distributions import Laplace\n",
    "\n",
    "from gpytorch.constraints import Interval, Positive\n",
    "from gpytorch.distributions import base_distributions\n",
    "from gpytorch.priors import Prior\n",
    "from gpytorch.likelihoods.likelihood import _OneDimensionalLikelihood\n"
   ]
  },
  {
   "cell_type": "code",
   "execution_count": 17,
   "id": "af549afc-9003-4e36-813f-74c97479e8a5",
   "metadata": {},
   "outputs": [],
   "source": [
    "from typing import Any, Optional\n",
    "\n",
    "import torch\n",
    "from torch import Tensor\n",
    "from torch.distributions import Laplace\n",
    "\n",
    "from gpytorch.constraints import Interval, Positive\n",
    "from gpytorch.distributions import base_distributions\n",
    "from gpytorch.priors import Prior\n",
    "from gpytorch.likelihoods.likelihood import _OneDimensionalLikelihood\n",
    "\n",
    "class NegativeBinomialLikelihood(_OneDimensionalLikelihood):\n",
    "    def __init__(\n",
    "        self,\n",
    "        batch_shape: torch.Size = torch.Size([])\n",
    "    ) -> None:\n",
    "        super().__init__()        \n",
    "        \n",
    "        self.raw_r = torch.nn.Parameter(torch.ones(*batch_shape, 1))\n",
    "        r_constraint = Positive()\n",
    "        self.register_constraint(\"raw_r\", r_constraint)\n",
    "\n",
    "        self.raw_mu = torch.nn.Parameter(torch.ones(*batch_shape, 1))\n",
    "        mu_constraint = Positive()\n",
    "        self.register_constraint(\"raw_mu\", mu_constraint)\n",
    "\n",
    "    @property\n",
    "    def mu(self) -> Tensor:\n",
    "        return self.raw_mu_constraint.transform(self.raw_mu)\n",
    "\n",
    "    @mu.setter\n",
    "    def mu(self, value: Tensor) -> None:\n",
    "        self._set_mu(value)\n",
    "        \n",
    "    def _set_mu(self, value: Tensor) -> None:\n",
    "        if not torch.is_tensor(value):\n",
    "            value = torch.as_tensor(value).to(self.raw_mu)\n",
    "        self.initialize(raw_mu=self.raw_mu_constraint.inverse_transform(value))\n",
    "\n",
    "    @property\n",
    "    def r(self) -> Tensor:\n",
    "        return self.raw_r_constraint.transform(self.raw_r)\n",
    "\n",
    "    @r.setter\n",
    "    def r(self, value: Tensor) -> None:\n",
    "        self._set_r(value)\n",
    "        \n",
    "    def _set_r(self, value: Tensor) -> None:\n",
    "        if not torch.is_tensor(value):\n",
    "            value = torch.as_tensor(value).to(self.raw_r)\n",
    "        self.initialize(raw_r=self.raw_r_constraint.inverse_transform(value))\n",
    "        \n",
    "    def forward(self, function_samples: Tensor, *args: Any, **kwargs: Any) -> base_distributions.Poisson:\n",
    "        mu = torch.exp(function_samples) #* self.mu\n",
    "        probs = self.r / (mu + self.r)\n",
    "        return base_distributions.NegativeBinomial(total_count = self.r, probs=probs)"
   ]
  },
  {
   "cell_type": "code",
   "execution_count": 27,
   "id": "c8d069c7-4032-435f-b5a9-3bbb8c6479b3",
   "metadata": {},
   "outputs": [],
   "source": [
    "import urllib.request\n",
    "import os\n",
    "from scipy.io import loadmat\n",
    "from math import floor\n",
    "import math\n",
    "import torch\n",
    "import gpytorch\n",
    "from matplotlib import pyplot as plt\n",
    "\n",
    "from gpytorch.models import ApproximateGP\n",
    "from gpytorch.variational import CholeskyVariationalDistribution, DeltaVariationalDistribution, MeanFieldVariationalDistribution\n",
    "from gpytorch.variational import VariationalStrategy\n",
    "from sklearn.preprocessing import MinMaxScaler, StandardScaler\n",
    "\n",
    "N = 500\n",
    "r = 1\n",
    "X = torch.normal(mean=0, std =1, size=(1,N)).double().cuda().flatten()\n",
    "mu = torch.exp(X)\n",
    "probs = r / (mu + r)\n",
    "y = base_distributions.NegativeBinomial(total_count = r, probs=probs).sample().double().cuda().flatten()"
   ]
  },
  {
   "cell_type": "code",
   "execution_count": 32,
   "id": "a2ae98dc-cf48-4bd3-aa3c-c8528632e304",
   "metadata": {},
   "outputs": [
    {
     "name": "stdout",
     "output_type": "stream",
     "text": [
      "100\n",
      "1.5387012438176348\n",
      "200\n",
      "1.5383521260207635\n",
      "300\n",
      "1.538306141805378\n",
      "400\n",
      "1.53826458000918\n",
      "500\n",
      "1.5382279044325708\n",
      "600\n",
      "1.538195906883475\n",
      "700\n",
      "1.5381681523700128\n",
      "800\n",
      "1.5381441471408097\n",
      "900\n",
      "1.5381234096662817\n",
      "1000\n",
      "1.5381054991912098\n"
     ]
    }
   ],
   "source": [
    "import math\n",
    "\n",
    "class GPModel(ApproximateGP):\n",
    "    def __init__(self, inducing_points, feature_extractor):\n",
    "        variational_distribution = gpytorch.variational.NaturalVariationalDistribution(inducing_points.size(0))\n",
    "        variational_strategy = gpytorch.variational.VariationalStrategy(\n",
    "            self, inducing_points, variational_distribution, learn_inducing_locations=True\n",
    "        )\n",
    "        super(GPModel, self).__init__(variational_strategy)\n",
    "        self.mean_module = gpytorch.means.ZeroMean()\n",
    "        self.covar_module = gpytorch.kernels.ScaleKernel(\n",
    "            gpytorch.kernels.LinearKernel(),\n",
    "        ) \n",
    "        \n",
    "    def forward(self, x):\n",
    "        mean_x = self.mean_module(x)\n",
    "        covar_x = self.covar_module(x)\n",
    "        return gpytorch.distributions.MultivariateNormal(mean_x, covar_x)\n",
    "\n",
    "M = 100\n",
    "inducing_points = torch.normal(mean=0, std =1, size=(1,N)).double().cuda().flatten()\n",
    "model = GPModel(inducing_points=inducing_points, feature_extractor=None).double()\n",
    "likelihood = NegativeBinomialLikelihood().double()\n",
    "\n",
    "if torch.cuda.is_available():\n",
    "    model = model.cuda()\n",
    "    likelihood = likelihood.cuda()\n",
    "\n",
    "model.train()\n",
    "#model.covar_module.base_kernel.initialize(lengthscale=5)\n",
    "likelihood.train()\n",
    "likelihood.initialize(r=1.5)\n",
    "\n",
    "variational_ngd_optimizer = gpytorch.optim.NGD(model.variational_parameters(), num_data=y.size(0), lr=0.1)\n",
    "\n",
    "hyperparameter_optimizer = torch.optim.Adam([\n",
    "    {'params': model.hyperparameters()},\n",
    "    {'params': likelihood.parameters()},\n",
    "], lr=0.01)\n",
    "\n",
    "mll = gpytorch.mlls.VariationalELBO(likelihood, model, num_data=y.size(0))\n",
    "\n",
    "n_epochs = 1000\n",
    "for i in range(1, n_epochs + 1):\n",
    "    if i % (n_epochs // 10) == 0:\n",
    "        print(i)\n",
    "        print(loss.item())\n",
    "    variational_ngd_optimizer.zero_grad()\n",
    "    hyperparameter_optimizer.zero_grad()\n",
    "    output = model(X)\n",
    "    loss = -mll(output, y)\n",
    "    loss.backward()\n",
    "    variational_ngd_optimizer.step()\n",
    "    hyperparameter_optimizer.step()"
   ]
  },
  {
   "cell_type": "code",
   "execution_count": 33,
   "id": "d7a2f16d-26dd-4789-8e96-37d29d7da890",
   "metadata": {},
   "outputs": [],
   "source": [
    "model.eval()\n",
    "likelihood.eval()\n",
    "with torch.no_grad():\n",
    "    preds = likelihood(model(X))"
   ]
  },
  {
   "cell_type": "code",
   "execution_count": 44,
   "id": "64c6afe2-5f46-463d-95d8-c71da4b71e2a",
   "metadata": {},
   "outputs": [
    {
     "data": {
      "text/plain": [
       "<Axes: xlabel='X1', ylabel='y'>"
      ]
     },
     "execution_count": 44,
     "metadata": {},
     "output_type": "execute_result"
    },
    {
     "data": {
      "image/png": "[encoded data removed]",
      "text/plain": [
       "<Figure size 640x480 with 1 Axes>"
      ]
     },
     "metadata": {},
     "output_type": "display_data"
    }
   ],
   "source": [
    "results_df = pd.DataFrame(dict(\n",
    "    y=y.cpu().numpy(),\n",
    "    X1=X.cpu().numpy(),\n",
    "    preds=preds.sample().median(axis=0).values.cpu().numpy()\n",
    "))\n",
    "\n",
    "results_df.plot.scatter(\"X1\", \"y\")"
   ]
  },
  {
   "cell_type": "code",
   "execution_count": 43,
   "id": "89018bd0-5f4d-46c7-b017-9de037f1a788",
   "metadata": {},
   "outputs": [
    {
     "data": {
      "text/plain": [
       "<Axes: xlabel='X1', ylabel='preds'>"
      ]
     },
     "execution_count": 43,
     "metadata": {},
     "output_type": "execute_result"
    },
    {
     "data": {
      "image/png": "[encoded data removed]",
      "text/plain": [
       "<Figure size 640x480 with 1 Axes>"
      ]
     },
     "metadata": {},
     "output_type": "display_data"
    }
   ],
   "source": [
    "results_df.plot.scatter(\"X1\", \"preds\")"
   ]
  },
  {
   "cell_type": "code",
   "execution_count": 51,
   "id": "2a72bfad-e09e-42c0-9273-b87d095f8f1c",
   "metadata": {},
   "outputs": [],
   "source": [
    "N = 1000\n",
    "r = 1\n",
    "pi=0.35\n",
    "X = torch.normal(mean=0, std =1, size=(1,N)).double().cuda().flatten()\n",
    "mu = torch.exp(X)\n",
    "probs = r / (mu + r)\n",
    "y = base_distributions.ZeroInflatedNegativeBinomial(\n",
    "    total_count = r, probs=probs, gate=torch.tensor([pi]).double().cuda()\n",
    ").sample().double().cuda().flatten()"
   ]
  },
  {
   "cell_type": "code",
   "execution_count": 52,
   "id": "b70964eb-dbbc-4d90-9035-4efbced2d0e9",
   "metadata": {},
   "outputs": [],
   "source": [
    "from typing import Any, Optional\n",
    "\n",
    "import torch\n",
    "from torch import Tensor\n",
    "from torch.distributions import Laplace\n",
    "\n",
    "from gpytorch.constraints import Interval, Positive\n",
    "from gpytorch.distributions import base_distributions\n",
    "from gpytorch.priors import Prior\n",
    "from gpytorch.likelihoods.likelihood import _OneDimensionalLikelihood\n",
    "\n",
    "class ZeroInflatedNegativeBinomialLikelihood(_OneDimensionalLikelihood):\n",
    "    def __init__(\n",
    "        self,\n",
    "        batch_shape: torch.Size = torch.Size([])\n",
    "    ) -> None:\n",
    "        super().__init__()        \n",
    "        \n",
    "        self.raw_r = torch.nn.Parameter(torch.ones(*batch_shape, 1))\n",
    "        r_constraint = Positive()\n",
    "        self.register_constraint(\"raw_r\", r_constraint)\n",
    "\n",
    "        self.raw_mu = torch.nn.Parameter(torch.ones(*batch_shape, 1))\n",
    "        mu_constraint = Positive()\n",
    "        self.register_constraint(\"raw_mu\", mu_constraint)\n",
    "\n",
    "        self.raw_pi = torch.nn.Parameter(torch.ones(*batch_shape, 1))\n",
    "        pi_constraint = Interval(0, 1)\n",
    "        self.register_constraint(\"raw_pi\", pi_constraint)\n",
    "\n",
    "    @property\n",
    "    def mu(self) -> Tensor:\n",
    "        return self.raw_mu_constraint.transform(self.raw_mu)\n",
    "\n",
    "    @mu.setter\n",
    "    def mu(self, value: Tensor) -> None:\n",
    "        self._set_mu(value)\n",
    "        \n",
    "    def _set_mu(self, value: Tensor) -> None:\n",
    "        if not torch.is_tensor(value):\n",
    "            value = torch.as_tensor(value).to(self.raw_mu)\n",
    "        self.initialize(raw_mu=self.raw_mu_constraint.inverse_transform(value))\n",
    "\n",
    "    @property\n",
    "    def r(self) -> Tensor:\n",
    "        return self.raw_r_constraint.transform(self.raw_r)\n",
    "\n",
    "    @r.setter\n",
    "    def r(self, value: Tensor) -> None:\n",
    "        self._set_r(value)\n",
    "        \n",
    "    def _set_r(self, value: Tensor) -> None:\n",
    "        if not torch.is_tensor(value):\n",
    "            value = torch.as_tensor(value).to(self.raw_r)\n",
    "        self.initialize(raw_r=self.raw_r_constraint.inverse_transform(value))\n",
    "\n",
    "    @property\n",
    "    def pi(self) -> Tensor:\n",
    "        return self.raw_pi_constraint.transform(self.raw_pi)\n",
    "        \n",
    "    @pi.setter\n",
    "    def pi(self, value: Tensor) -> None:\n",
    "        self._set_pi(value)\n",
    "\n",
    "    def _set_pi(self, value: Tensor) -> None:\n",
    "        if not torch.is_tensor(value):\n",
    "            value = torch.as_tensor(value).to(self.raw_pi)\n",
    "        self.initialize(raw_pi=self.raw_pi_constraint.inverse_transform(value))\n",
    "        \n",
    "    def forward(self, function_samples: Tensor, *args: Any, **kwargs: Any) -> base_distributions.Poisson:\n",
    "        mu = torch.exp(function_samples) #* self.mu\n",
    "        probs = self.r / (mu + self.r)\n",
    "        pi = self.pi\n",
    "\n",
    "        return base_distributions.ZeroInflatedNegativeBinomial(total_count = self.r, probs=probs, gate=pi)"
   ]
  },
  {
   "cell_type": "code",
   "execution_count": 53,
   "id": "d9f6cc96-a52a-4e52-81ec-7e90363351b2",
   "metadata": {},
   "outputs": [
    {
     "name": "stdout",
     "output_type": "stream",
     "text": [
      "30\n",
      "1.1875917089786223\n",
      "60\n",
      "1.1871355744182392\n",
      "90\n",
      "1.1871188384897515\n",
      "120\n",
      "1.187111033430796\n",
      "150\n",
      "1.1871037766962085\n",
      "180\n",
      "1.1870963435314605\n",
      "210\n",
      "1.187088922242651\n",
      "240\n",
      "1.1870815668555106\n",
      "270\n",
      "1.1870743130446562\n",
      "300\n",
      "1.1870671893840936\n"
     ]
    }
   ],
   "source": [
    "import math\n",
    "\n",
    "class GPModel(ApproximateGP):\n",
    "    def __init__(self, inducing_points, feature_extractor):\n",
    "        variational_distribution = gpytorch.variational.NaturalVariationalDistribution(inducing_points.size(0))\n",
    "        variational_strategy = gpytorch.variational.VariationalStrategy(\n",
    "            self, inducing_points, variational_distribution, learn_inducing_locations=True\n",
    "        )\n",
    "        super(GPModel, self).__init__(variational_strategy)\n",
    "        self.mean_module = gpytorch.means.ZeroMean()\n",
    "        self.covar_module = gpytorch.kernels.ScaleKernel(\n",
    "            gpytorch.kernels.LinearKernel(),\n",
    "        ) \n",
    "        \n",
    "    def forward(self, x):\n",
    "        mean_x = self.mean_module(x)\n",
    "        covar_x = self.covar_module(x)\n",
    "        return gpytorch.distributions.MultivariateNormal(mean_x, covar_x)\n",
    "\n",
    "M = 300\n",
    "inducing_points = torch.normal(mean=0, std =1, size=(1,N)).double().cuda().flatten()\n",
    "model = GPModel(inducing_points=inducing_points, feature_extractor=None).double()\n",
    "likelihood = ZeroInflatedNegativeBinomialLikelihood().double()\n",
    "\n",
    "if torch.cuda.is_available():\n",
    "    model = model.cuda()\n",
    "    likelihood = likelihood.cuda()\n",
    "\n",
    "model.train()\n",
    "#model.covar_module.base_kernel.initialize(lengthscale=5)\n",
    "likelihood.train()\n",
    "likelihood.initialize(r=r, pi=0.35)\n",
    "\n",
    "variational_ngd_optimizer = gpytorch.optim.NGD(model.variational_parameters(), num_data=y.size(0), lr=0.1)\n",
    "\n",
    "hyperparameter_optimizer = torch.optim.Adam([\n",
    "    {'params': model.hyperparameters()},\n",
    "    {'params': likelihood.parameters()},\n",
    "], lr=0.01)\n",
    "\n",
    "mll = gpytorch.mlls.VariationalELBO(likelihood, model, num_data=y.size(0))\n",
    "\n",
    "n_epochs = 300\n",
    "for i in range(1, n_epochs + 1):\n",
    "    if i % (n_epochs // 10) == 0:\n",
    "        print(i)\n",
    "        print(loss.item())\n",
    "    variational_ngd_optimizer.zero_grad()\n",
    "    hyperparameter_optimizer.zero_grad()\n",
    "    output = model(X)\n",
    "    loss = -mll(output, y)\n",
    "    loss.backward()\n",
    "    variational_ngd_optimizer.step()\n",
    "    hyperparameter_optimizer.step()"
   ]
  },
  {
   "cell_type": "code",
   "execution_count": 54,
   "id": "dd5f17f1-1890-4657-ba61-c2aab657e0ae",
   "metadata": {},
   "outputs": [],
   "source": [
    "model.eval()\n",
    "likelihood.eval()\n",
    "with torch.no_grad():\n",
    "    preds = likelihood(model(X))"
   ]
  },
  {
   "cell_type": "code",
   "execution_count": 82,
   "id": "699539a5-e487-4241-bf90-231a78b5b0ed",
   "metadata": {},
   "outputs": [
    {
     "data": {
      "text/plain": [
       "<Axes: xlabel='X1', ylabel='y'>"
      ]
     },
     "execution_count": 82,
     "metadata": {},
     "output_type": "execute_result"
    },
    {
     "data": {
      "image/png": "[encoded data removed]",
      "text/plain": [
       "<Figure size 640x480 with 1 Axes>"
      ]
     },
     "metadata": {},
     "output_type": "display_data"
    }
   ],
   "source": [
    "results_df = pd.DataFrame(dict(\n",
    "    y=y.cpu().numpy(),\n",
    "    X1=X.cpu().numpy(),\n",
    "    preds=preds.sample().median(axis=0).values.cpu().numpy()\n",
    "))\n",
    "\n",
    "results_df.plot.scatter(\"X1\", \"y\")"
   ]
  },
  {
   "cell_type": "code",
   "execution_count": 83,
   "id": "b46e4e07-d32c-4712-a379-ac2512403b9b",
   "metadata": {},
   "outputs": [
    {
     "data": {
      "text/plain": [
       "<Axes: xlabel='X1', ylabel='preds'>"
      ]
     },
     "execution_count": 83,
     "metadata": {},
     "output_type": "execute_result"
    },
    {
     "data": {
      "image/png": "[encoded data removed]",
      "text/plain": [
       "<Figure size 640x480 with 1 Axes>"
      ]
     },
     "metadata": {},
     "output_type": "display_data"
    }
   ],
   "source": [
    "results_df.plot.scatter(\"X1\", \"preds\")"
   ]
  },
  {
   "cell_type": "code",
   "execution_count": null,
   "id": "31c74ca5-2c14-48fa-853f-f7a1a673197e",
   "metadata": {},
   "outputs": [],
   "source": []
  }
 ],
 "metadata": {
  "kernelspec": {
   "display_name": "Python 3 (ipykernel)",
   "language": "python",
   "name": "python3"
  },
  "language_info": {
   "codemirror_mode": {
    "name": "ipython",
    "version": 3
   },
   "file_extension": ".py",
   "mimetype": "text/x-python",
   "name": "python",
   "nbconvert_exporter": "python",
   "pygments_lexer": "ipython3",
   "version": "3.10.17"
  }
 },
 "nbformat": 4,
 "nbformat_minor": 5
}
